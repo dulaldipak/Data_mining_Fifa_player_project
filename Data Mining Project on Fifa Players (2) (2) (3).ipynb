{
 "cells": [
  {
   "cell_type": "code",
   "execution_count": 1,
   "metadata": {},
   "outputs": [],
   "source": [
    "import numpy as np\n",
    "import pandas as pd\n",
    "import matplotlib.pyplot as plt\n",
    "from sklearn.cluster import KMeans\n",
    "from sklearn.cluster import DBSCAN\n",
    "# from sklearn.cluster import OPTICS\n",
    "import seaborn as sns\n",
    "from sklearn.preprocessing import StandardScaler\n",
    "from sklearn.linear_model import LogisticRegression\n",
    "from sklearn.model_selection import train_test_split\n",
    "\n",
    "%matplotlib inline"
   ]
  },
  {
   "cell_type": "code",
   "execution_count": 2,
   "metadata": {},
   "outputs": [],
   "source": [
    "df = pd.read_csv('Fifa_Soccer_data.csv')"
   ]
  },
  {
   "cell_type": "code",
   "execution_count": 3,
   "metadata": {},
   "outputs": [
    {
     "data": {
      "text/plain": [
       "Index(['Unnamed: 0', 'ID', 'Name', 'Age', 'Photo', 'Nationality', 'Flag',\n",
       "       'Overall', 'Potential', 'Club', 'Club Logo', 'Value', 'Wage', 'Special',\n",
       "       'Preferred Foot', 'International Reputation', 'Weak Foot',\n",
       "       'Skill Moves', 'Work Rate', 'Body Type', 'Real Face', 'Position',\n",
       "       'Jersey Number', 'Joined', 'Loaned From', 'Contract Valid Until',\n",
       "       'Height', 'Weight', 'LS', 'ST', 'RS', 'LW', 'LF', 'CF', 'RF', 'RW',\n",
       "       'LAM', 'CAM', 'RAM', 'LM', 'LCM', 'CM', 'RCM', 'RM', 'LWB', 'LDM',\n",
       "       'CDM', 'RDM', 'RWB', 'LB', 'LCB', 'CB', 'RCB', 'RB', 'Crossing',\n",
       "       'Finishing', 'HeadingAccuracy', 'ShortPassing', 'Volleys', 'Dribbling',\n",
       "       'Curve', 'FKAccuracy', 'LongPassing', 'BallControl', 'Acceleration',\n",
       "       'SprintSpeed', 'Agility', 'Reactions', 'Balance', 'ShotPower',\n",
       "       'Jumping', 'Stamina', 'Strength', 'LongShots', 'Aggression',\n",
       "       'Interceptions', 'Positioning', 'Vision', 'Penalties', 'Composure',\n",
       "       'Marking', 'StandingTackle', 'SlidingTackle', 'GKDiving', 'GKHandling',\n",
       "       'GKKicking', 'GKPositioning', 'GKReflexes', 'Release Clause'],\n",
       "      dtype='object')"
      ]
     },
     "execution_count": 3,
     "metadata": {},
     "output_type": "execute_result"
    }
   ],
   "source": [
    "df.columns"
   ]
  },
  {
   "cell_type": "code",
   "execution_count": 4,
   "metadata": {},
   "outputs": [
    {
     "data": {
      "text/html": [
       "<div>\n",
       "<style scoped>\n",
       "    .dataframe tbody tr th:only-of-type {\n",
       "        vertical-align: middle;\n",
       "    }\n",
       "\n",
       "    .dataframe tbody tr th {\n",
       "        vertical-align: top;\n",
       "    }\n",
       "\n",
       "    .dataframe thead th {\n",
       "        text-align: right;\n",
       "    }\n",
       "</style>\n",
       "<table border=\"1\" class=\"dataframe\">\n",
       "  <thead>\n",
       "    <tr style=\"text-align: right;\">\n",
       "      <th></th>\n",
       "      <th>Name</th>\n",
       "      <th>Age</th>\n",
       "      <th>Nationality</th>\n",
       "      <th>Height</th>\n",
       "      <th>Weight</th>\n",
       "      <th>Overall</th>\n",
       "      <th>Potential</th>\n",
       "      <th>Balance</th>\n",
       "      <th>Stamina</th>\n",
       "      <th>Strength</th>\n",
       "      <th>Dribbling</th>\n",
       "      <th>ShotPower</th>\n",
       "      <th>Jumping</th>\n",
       "      <th>Acceleration</th>\n",
       "      <th>Work Rate</th>\n",
       "    </tr>\n",
       "  </thead>\n",
       "  <tbody>\n",
       "    <tr>\n",
       "      <th>0</th>\n",
       "      <td>L. Messi</td>\n",
       "      <td>31</td>\n",
       "      <td>Argentina</td>\n",
       "      <td>5'7</td>\n",
       "      <td>159lbs</td>\n",
       "      <td>94</td>\n",
       "      <td>94</td>\n",
       "      <td>95.0</td>\n",
       "      <td>72.0</td>\n",
       "      <td>59.0</td>\n",
       "      <td>97.0</td>\n",
       "      <td>85.0</td>\n",
       "      <td>68.0</td>\n",
       "      <td>91.0</td>\n",
       "      <td>Medium/ Medium</td>\n",
       "    </tr>\n",
       "    <tr>\n",
       "      <th>1</th>\n",
       "      <td>Cristiano Ronaldo</td>\n",
       "      <td>33</td>\n",
       "      <td>Portugal</td>\n",
       "      <td>6'2</td>\n",
       "      <td>183lbs</td>\n",
       "      <td>94</td>\n",
       "      <td>94</td>\n",
       "      <td>70.0</td>\n",
       "      <td>88.0</td>\n",
       "      <td>79.0</td>\n",
       "      <td>88.0</td>\n",
       "      <td>95.0</td>\n",
       "      <td>95.0</td>\n",
       "      <td>89.0</td>\n",
       "      <td>High/ Low</td>\n",
       "    </tr>\n",
       "    <tr>\n",
       "      <th>2</th>\n",
       "      <td>Neymar Jr</td>\n",
       "      <td>26</td>\n",
       "      <td>Brazil</td>\n",
       "      <td>5'9</td>\n",
       "      <td>150lbs</td>\n",
       "      <td>92</td>\n",
       "      <td>93</td>\n",
       "      <td>84.0</td>\n",
       "      <td>81.0</td>\n",
       "      <td>49.0</td>\n",
       "      <td>96.0</td>\n",
       "      <td>80.0</td>\n",
       "      <td>61.0</td>\n",
       "      <td>94.0</td>\n",
       "      <td>High/ Medium</td>\n",
       "    </tr>\n",
       "    <tr>\n",
       "      <th>3</th>\n",
       "      <td>De Gea</td>\n",
       "      <td>27</td>\n",
       "      <td>Spain</td>\n",
       "      <td>6'4</td>\n",
       "      <td>168lbs</td>\n",
       "      <td>91</td>\n",
       "      <td>93</td>\n",
       "      <td>43.0</td>\n",
       "      <td>43.0</td>\n",
       "      <td>64.0</td>\n",
       "      <td>18.0</td>\n",
       "      <td>31.0</td>\n",
       "      <td>67.0</td>\n",
       "      <td>57.0</td>\n",
       "      <td>Medium/ Medium</td>\n",
       "    </tr>\n",
       "    <tr>\n",
       "      <th>4</th>\n",
       "      <td>K. De Bruyne</td>\n",
       "      <td>27</td>\n",
       "      <td>Belgium</td>\n",
       "      <td>5'11</td>\n",
       "      <td>154lbs</td>\n",
       "      <td>91</td>\n",
       "      <td>92</td>\n",
       "      <td>77.0</td>\n",
       "      <td>90.0</td>\n",
       "      <td>75.0</td>\n",
       "      <td>86.0</td>\n",
       "      <td>91.0</td>\n",
       "      <td>63.0</td>\n",
       "      <td>78.0</td>\n",
       "      <td>High/ High</td>\n",
       "    </tr>\n",
       "    <tr>\n",
       "      <th>...</th>\n",
       "      <td>...</td>\n",
       "      <td>...</td>\n",
       "      <td>...</td>\n",
       "      <td>...</td>\n",
       "      <td>...</td>\n",
       "      <td>...</td>\n",
       "      <td>...</td>\n",
       "      <td>...</td>\n",
       "      <td>...</td>\n",
       "      <td>...</td>\n",
       "      <td>...</td>\n",
       "      <td>...</td>\n",
       "      <td>...</td>\n",
       "      <td>...</td>\n",
       "      <td>...</td>\n",
       "    </tr>\n",
       "    <tr>\n",
       "      <th>18202</th>\n",
       "      <td>J. Lundstram</td>\n",
       "      <td>19</td>\n",
       "      <td>England</td>\n",
       "      <td>5'9</td>\n",
       "      <td>134lbs</td>\n",
       "      <td>47</td>\n",
       "      <td>65</td>\n",
       "      <td>76.0</td>\n",
       "      <td>40.0</td>\n",
       "      <td>47.0</td>\n",
       "      <td>42.0</td>\n",
       "      <td>43.0</td>\n",
       "      <td>55.0</td>\n",
       "      <td>54.0</td>\n",
       "      <td>Medium/ Medium</td>\n",
       "    </tr>\n",
       "    <tr>\n",
       "      <th>18203</th>\n",
       "      <td>N. Christoffersson</td>\n",
       "      <td>19</td>\n",
       "      <td>Sweden</td>\n",
       "      <td>6'3</td>\n",
       "      <td>170lbs</td>\n",
       "      <td>47</td>\n",
       "      <td>63</td>\n",
       "      <td>52.0</td>\n",
       "      <td>43.0</td>\n",
       "      <td>67.0</td>\n",
       "      <td>39.0</td>\n",
       "      <td>41.0</td>\n",
       "      <td>47.0</td>\n",
       "      <td>41.0</td>\n",
       "      <td>Medium/ Medium</td>\n",
       "    </tr>\n",
       "    <tr>\n",
       "      <th>18204</th>\n",
       "      <td>B. Worman</td>\n",
       "      <td>16</td>\n",
       "      <td>England</td>\n",
       "      <td>5'8</td>\n",
       "      <td>148lbs</td>\n",
       "      <td>47</td>\n",
       "      <td>67</td>\n",
       "      <td>58.0</td>\n",
       "      <td>55.0</td>\n",
       "      <td>32.0</td>\n",
       "      <td>45.0</td>\n",
       "      <td>45.0</td>\n",
       "      <td>60.0</td>\n",
       "      <td>70.0</td>\n",
       "      <td>Medium/ Medium</td>\n",
       "    </tr>\n",
       "    <tr>\n",
       "      <th>18205</th>\n",
       "      <td>D. Walker-Rice</td>\n",
       "      <td>17</td>\n",
       "      <td>England</td>\n",
       "      <td>5'10</td>\n",
       "      <td>154lbs</td>\n",
       "      <td>47</td>\n",
       "      <td>66</td>\n",
       "      <td>71.0</td>\n",
       "      <td>40.0</td>\n",
       "      <td>48.0</td>\n",
       "      <td>51.0</td>\n",
       "      <td>64.0</td>\n",
       "      <td>42.0</td>\n",
       "      <td>61.0</td>\n",
       "      <td>Medium/ Medium</td>\n",
       "    </tr>\n",
       "    <tr>\n",
       "      <th>18206</th>\n",
       "      <td>G. Nugent</td>\n",
       "      <td>16</td>\n",
       "      <td>England</td>\n",
       "      <td>5'10</td>\n",
       "      <td>176lbs</td>\n",
       "      <td>46</td>\n",
       "      <td>66</td>\n",
       "      <td>63.0</td>\n",
       "      <td>47.0</td>\n",
       "      <td>60.0</td>\n",
       "      <td>43.0</td>\n",
       "      <td>43.0</td>\n",
       "      <td>62.0</td>\n",
       "      <td>57.0</td>\n",
       "      <td>Medium/ Medium</td>\n",
       "    </tr>\n",
       "  </tbody>\n",
       "</table>\n",
       "<p>18207 rows × 15 columns</p>\n",
       "</div>"
      ],
      "text/plain": [
       "                     Name  Age Nationality Height  Weight  Overall  Potential  \\\n",
       "0                L. Messi   31   Argentina    5'7  159lbs       94         94   \n",
       "1       Cristiano Ronaldo   33    Portugal    6'2  183lbs       94         94   \n",
       "2               Neymar Jr   26      Brazil    5'9  150lbs       92         93   \n",
       "3                  De Gea   27       Spain    6'4  168lbs       91         93   \n",
       "4            K. De Bruyne   27     Belgium   5'11  154lbs       91         92   \n",
       "...                   ...  ...         ...    ...     ...      ...        ...   \n",
       "18202        J. Lundstram   19     England    5'9  134lbs       47         65   \n",
       "18203  N. Christoffersson   19      Sweden    6'3  170lbs       47         63   \n",
       "18204           B. Worman   16     England    5'8  148lbs       47         67   \n",
       "18205      D. Walker-Rice   17     England   5'10  154lbs       47         66   \n",
       "18206           G. Nugent   16     England   5'10  176lbs       46         66   \n",
       "\n",
       "       Balance  Stamina  Strength  Dribbling  ShotPower  Jumping  \\\n",
       "0         95.0     72.0      59.0       97.0       85.0     68.0   \n",
       "1         70.0     88.0      79.0       88.0       95.0     95.0   \n",
       "2         84.0     81.0      49.0       96.0       80.0     61.0   \n",
       "3         43.0     43.0      64.0       18.0       31.0     67.0   \n",
       "4         77.0     90.0      75.0       86.0       91.0     63.0   \n",
       "...        ...      ...       ...        ...        ...      ...   \n",
       "18202     76.0     40.0      47.0       42.0       43.0     55.0   \n",
       "18203     52.0     43.0      67.0       39.0       41.0     47.0   \n",
       "18204     58.0     55.0      32.0       45.0       45.0     60.0   \n",
       "18205     71.0     40.0      48.0       51.0       64.0     42.0   \n",
       "18206     63.0     47.0      60.0       43.0       43.0     62.0   \n",
       "\n",
       "       Acceleration       Work Rate  \n",
       "0              91.0  Medium/ Medium  \n",
       "1              89.0       High/ Low  \n",
       "2              94.0    High/ Medium  \n",
       "3              57.0  Medium/ Medium  \n",
       "4              78.0      High/ High  \n",
       "...             ...             ...  \n",
       "18202          54.0  Medium/ Medium  \n",
       "18203          41.0  Medium/ Medium  \n",
       "18204          70.0  Medium/ Medium  \n",
       "18205          61.0  Medium/ Medium  \n",
       "18206          57.0  Medium/ Medium  \n",
       "\n",
       "[18207 rows x 15 columns]"
      ]
     },
     "execution_count": 4,
     "metadata": {},
     "output_type": "execute_result"
    }
   ],
   "source": [
    "fifa = df[['Name','Age','Nationality','Height','Weight','Overall','Potential','Balance','Stamina','Strength','Dribbling','ShotPower','Jumping','Acceleration','Work Rate']]\n",
    "fifa"
   ]
  },
  {
   "cell_type": "code",
   "execution_count": 5,
   "metadata": {},
   "outputs": [],
   "source": [
    "#to see all the colums\n",
    "#pd.set_option('display.max_columns',None)\n",
    "#fifa.head()"
   ]
  },
  {
   "cell_type": "code",
   "execution_count": 6,
   "metadata": {},
   "outputs": [],
   "source": [
    "# Deleting those rows which has null\n",
    "Fifa = fifa.dropna()"
   ]
  },
  {
   "cell_type": "code",
   "execution_count": 7,
   "metadata": {},
   "outputs": [
    {
     "data": {
      "text/plain": [
       "array(['Medium/ Medium', 'High/ Low', 'High/ Medium', 'High/ High',\n",
       "       'Medium/ High', 'Medium/ Low', 'Low/ High', 'Low/ Medium',\n",
       "       'Low/ Low'], dtype=object)"
      ]
     },
     "execution_count": 7,
     "metadata": {},
     "output_type": "execute_result"
    }
   ],
   "source": [
    "t =Fifa['Work Rate'].unique()\n",
    "t"
   ]
  },
  {
   "cell_type": "code",
   "execution_count": 8,
   "metadata": {},
   "outputs": [],
   "source": [
    "#observe nationality of the players\n",
    "#df['Nationality'].value_counts()"
   ]
  },
  {
   "cell_type": "code",
   "execution_count": 9,
   "metadata": {},
   "outputs": [],
   "source": [
    "# Observing the columns of the dataframe\n",
    "#fifa[['Nationality']].value_counts()[0:50]"
   ]
  },
  {
   "cell_type": "code",
   "execution_count": 10,
   "metadata": {},
   "outputs": [
    {
     "data": {
      "text/html": [
       "<div>\n",
       "<style scoped>\n",
       "    .dataframe tbody tr th:only-of-type {\n",
       "        vertical-align: middle;\n",
       "    }\n",
       "\n",
       "    .dataframe tbody tr th {\n",
       "        vertical-align: top;\n",
       "    }\n",
       "\n",
       "    .dataframe thead th {\n",
       "        text-align: right;\n",
       "    }\n",
       "</style>\n",
       "<table border=\"1\" class=\"dataframe\">\n",
       "  <thead>\n",
       "    <tr style=\"text-align: right;\">\n",
       "      <th></th>\n",
       "      <th>Name</th>\n",
       "      <th>Age</th>\n",
       "      <th>Nationality</th>\n",
       "      <th>Height</th>\n",
       "      <th>Weight</th>\n",
       "      <th>Overall</th>\n",
       "      <th>Potential</th>\n",
       "      <th>Balance</th>\n",
       "      <th>Stamina</th>\n",
       "      <th>Strength</th>\n",
       "      <th>Dribbling</th>\n",
       "      <th>ShotPower</th>\n",
       "      <th>Jumping</th>\n",
       "      <th>Acceleration</th>\n",
       "      <th>Work Rate</th>\n",
       "    </tr>\n",
       "  </thead>\n",
       "  <tbody>\n",
       "    <tr>\n",
       "      <th>0</th>\n",
       "      <td>L. Messi</td>\n",
       "      <td>31</td>\n",
       "      <td>Argentina</td>\n",
       "      <td>5'7</td>\n",
       "      <td>159lbs</td>\n",
       "      <td>94</td>\n",
       "      <td>94</td>\n",
       "      <td>95.0</td>\n",
       "      <td>72.0</td>\n",
       "      <td>59.0</td>\n",
       "      <td>97.0</td>\n",
       "      <td>85.0</td>\n",
       "      <td>68.0</td>\n",
       "      <td>91.0</td>\n",
       "      <td>Medium/ Medium</td>\n",
       "    </tr>\n",
       "    <tr>\n",
       "      <th>1</th>\n",
       "      <td>Cristiano Ronaldo</td>\n",
       "      <td>33</td>\n",
       "      <td>Portugal</td>\n",
       "      <td>6'2</td>\n",
       "      <td>183lbs</td>\n",
       "      <td>94</td>\n",
       "      <td>94</td>\n",
       "      <td>70.0</td>\n",
       "      <td>88.0</td>\n",
       "      <td>79.0</td>\n",
       "      <td>88.0</td>\n",
       "      <td>95.0</td>\n",
       "      <td>95.0</td>\n",
       "      <td>89.0</td>\n",
       "      <td>High/ Low</td>\n",
       "    </tr>\n",
       "    <tr>\n",
       "      <th>2</th>\n",
       "      <td>Neymar Jr</td>\n",
       "      <td>26</td>\n",
       "      <td>Brazil</td>\n",
       "      <td>5'9</td>\n",
       "      <td>150lbs</td>\n",
       "      <td>92</td>\n",
       "      <td>93</td>\n",
       "      <td>84.0</td>\n",
       "      <td>81.0</td>\n",
       "      <td>49.0</td>\n",
       "      <td>96.0</td>\n",
       "      <td>80.0</td>\n",
       "      <td>61.0</td>\n",
       "      <td>94.0</td>\n",
       "      <td>High/ Medium</td>\n",
       "    </tr>\n",
       "    <tr>\n",
       "      <th>3</th>\n",
       "      <td>De Gea</td>\n",
       "      <td>27</td>\n",
       "      <td>Spain</td>\n",
       "      <td>6'4</td>\n",
       "      <td>168lbs</td>\n",
       "      <td>91</td>\n",
       "      <td>93</td>\n",
       "      <td>43.0</td>\n",
       "      <td>43.0</td>\n",
       "      <td>64.0</td>\n",
       "      <td>18.0</td>\n",
       "      <td>31.0</td>\n",
       "      <td>67.0</td>\n",
       "      <td>57.0</td>\n",
       "      <td>Medium/ Medium</td>\n",
       "    </tr>\n",
       "    <tr>\n",
       "      <th>4</th>\n",
       "      <td>K. De Bruyne</td>\n",
       "      <td>27</td>\n",
       "      <td>Belgium</td>\n",
       "      <td>5'11</td>\n",
       "      <td>154lbs</td>\n",
       "      <td>91</td>\n",
       "      <td>92</td>\n",
       "      <td>77.0</td>\n",
       "      <td>90.0</td>\n",
       "      <td>75.0</td>\n",
       "      <td>86.0</td>\n",
       "      <td>91.0</td>\n",
       "      <td>63.0</td>\n",
       "      <td>78.0</td>\n",
       "      <td>High/ High</td>\n",
       "    </tr>\n",
       "    <tr>\n",
       "      <th>...</th>\n",
       "      <td>...</td>\n",
       "      <td>...</td>\n",
       "      <td>...</td>\n",
       "      <td>...</td>\n",
       "      <td>...</td>\n",
       "      <td>...</td>\n",
       "      <td>...</td>\n",
       "      <td>...</td>\n",
       "      <td>...</td>\n",
       "      <td>...</td>\n",
       "      <td>...</td>\n",
       "      <td>...</td>\n",
       "      <td>...</td>\n",
       "      <td>...</td>\n",
       "      <td>...</td>\n",
       "    </tr>\n",
       "    <tr>\n",
       "      <th>18202</th>\n",
       "      <td>J. Lundstram</td>\n",
       "      <td>19</td>\n",
       "      <td>England</td>\n",
       "      <td>5'9</td>\n",
       "      <td>134lbs</td>\n",
       "      <td>47</td>\n",
       "      <td>65</td>\n",
       "      <td>76.0</td>\n",
       "      <td>40.0</td>\n",
       "      <td>47.0</td>\n",
       "      <td>42.0</td>\n",
       "      <td>43.0</td>\n",
       "      <td>55.0</td>\n",
       "      <td>54.0</td>\n",
       "      <td>Medium/ Medium</td>\n",
       "    </tr>\n",
       "    <tr>\n",
       "      <th>18203</th>\n",
       "      <td>N. Christoffersson</td>\n",
       "      <td>19</td>\n",
       "      <td>Sweden</td>\n",
       "      <td>6'3</td>\n",
       "      <td>170lbs</td>\n",
       "      <td>47</td>\n",
       "      <td>63</td>\n",
       "      <td>52.0</td>\n",
       "      <td>43.0</td>\n",
       "      <td>67.0</td>\n",
       "      <td>39.0</td>\n",
       "      <td>41.0</td>\n",
       "      <td>47.0</td>\n",
       "      <td>41.0</td>\n",
       "      <td>Medium/ Medium</td>\n",
       "    </tr>\n",
       "    <tr>\n",
       "      <th>18204</th>\n",
       "      <td>B. Worman</td>\n",
       "      <td>16</td>\n",
       "      <td>England</td>\n",
       "      <td>5'8</td>\n",
       "      <td>148lbs</td>\n",
       "      <td>47</td>\n",
       "      <td>67</td>\n",
       "      <td>58.0</td>\n",
       "      <td>55.0</td>\n",
       "      <td>32.0</td>\n",
       "      <td>45.0</td>\n",
       "      <td>45.0</td>\n",
       "      <td>60.0</td>\n",
       "      <td>70.0</td>\n",
       "      <td>Medium/ Medium</td>\n",
       "    </tr>\n",
       "    <tr>\n",
       "      <th>18205</th>\n",
       "      <td>D. Walker-Rice</td>\n",
       "      <td>17</td>\n",
       "      <td>England</td>\n",
       "      <td>5'10</td>\n",
       "      <td>154lbs</td>\n",
       "      <td>47</td>\n",
       "      <td>66</td>\n",
       "      <td>71.0</td>\n",
       "      <td>40.0</td>\n",
       "      <td>48.0</td>\n",
       "      <td>51.0</td>\n",
       "      <td>64.0</td>\n",
       "      <td>42.0</td>\n",
       "      <td>61.0</td>\n",
       "      <td>Medium/ Medium</td>\n",
       "    </tr>\n",
       "    <tr>\n",
       "      <th>18206</th>\n",
       "      <td>G. Nugent</td>\n",
       "      <td>16</td>\n",
       "      <td>England</td>\n",
       "      <td>5'10</td>\n",
       "      <td>176lbs</td>\n",
       "      <td>46</td>\n",
       "      <td>66</td>\n",
       "      <td>63.0</td>\n",
       "      <td>47.0</td>\n",
       "      <td>60.0</td>\n",
       "      <td>43.0</td>\n",
       "      <td>43.0</td>\n",
       "      <td>62.0</td>\n",
       "      <td>57.0</td>\n",
       "      <td>Medium/ Medium</td>\n",
       "    </tr>\n",
       "  </tbody>\n",
       "</table>\n",
       "<p>18159 rows × 15 columns</p>\n",
       "</div>"
      ],
      "text/plain": [
       "                     Name  Age Nationality Height  Weight  Overall  Potential  \\\n",
       "0                L. Messi   31   Argentina    5'7  159lbs       94         94   \n",
       "1       Cristiano Ronaldo   33    Portugal    6'2  183lbs       94         94   \n",
       "2               Neymar Jr   26      Brazil    5'9  150lbs       92         93   \n",
       "3                  De Gea   27       Spain    6'4  168lbs       91         93   \n",
       "4            K. De Bruyne   27     Belgium   5'11  154lbs       91         92   \n",
       "...                   ...  ...         ...    ...     ...      ...        ...   \n",
       "18202        J. Lundstram   19     England    5'9  134lbs       47         65   \n",
       "18203  N. Christoffersson   19      Sweden    6'3  170lbs       47         63   \n",
       "18204           B. Worman   16     England    5'8  148lbs       47         67   \n",
       "18205      D. Walker-Rice   17     England   5'10  154lbs       47         66   \n",
       "18206           G. Nugent   16     England   5'10  176lbs       46         66   \n",
       "\n",
       "       Balance  Stamina  Strength  Dribbling  ShotPower  Jumping  \\\n",
       "0         95.0     72.0      59.0       97.0       85.0     68.0   \n",
       "1         70.0     88.0      79.0       88.0       95.0     95.0   \n",
       "2         84.0     81.0      49.0       96.0       80.0     61.0   \n",
       "3         43.0     43.0      64.0       18.0       31.0     67.0   \n",
       "4         77.0     90.0      75.0       86.0       91.0     63.0   \n",
       "...        ...      ...       ...        ...        ...      ...   \n",
       "18202     76.0     40.0      47.0       42.0       43.0     55.0   \n",
       "18203     52.0     43.0      67.0       39.0       41.0     47.0   \n",
       "18204     58.0     55.0      32.0       45.0       45.0     60.0   \n",
       "18205     71.0     40.0      48.0       51.0       64.0     42.0   \n",
       "18206     63.0     47.0      60.0       43.0       43.0     62.0   \n",
       "\n",
       "       Acceleration       Work Rate  \n",
       "0              91.0  Medium/ Medium  \n",
       "1              89.0       High/ Low  \n",
       "2              94.0    High/ Medium  \n",
       "3              57.0  Medium/ Medium  \n",
       "4              78.0      High/ High  \n",
       "...             ...             ...  \n",
       "18202          54.0  Medium/ Medium  \n",
       "18203          41.0  Medium/ Medium  \n",
       "18204          70.0  Medium/ Medium  \n",
       "18205          61.0  Medium/ Medium  \n",
       "18206          57.0  Medium/ Medium  \n",
       "\n",
       "[18159 rows x 15 columns]"
      ]
     },
     "execution_count": 10,
     "metadata": {},
     "output_type": "execute_result"
    }
   ],
   "source": [
    "Fifa"
   ]
  },
  {
   "cell_type": "code",
   "execution_count": 11,
   "metadata": {},
   "outputs": [
    {
     "name": "stderr",
     "output_type": "stream",
     "text": [
      "<ipython-input-11-7ec01b37a604>:2: SettingWithCopyWarning: \n",
      "A value is trying to be set on a copy of a slice from a DataFrame.\n",
      "Try using .loc[row_indexer,col_indexer] = value instead\n",
      "\n",
      "See the caveats in the documentation: https://pandas.pydata.org/pandas-docs/stable/user_guide/indexing.html#returning-a-view-versus-a-copy\n",
      "  Fifa['Weight'] = Fifa['Weight'].str.replace(r'\\D','')\n"
     ]
    }
   ],
   "source": [
    "#Remove unit measure 'lb' from the column \"Weight\"\n",
    "Fifa['Weight'] = Fifa['Weight'].str.replace(r'\\D','')\n"
   ]
  },
  {
   "cell_type": "code",
   "execution_count": 12,
   "metadata": {},
   "outputs": [
    {
     "data": {
      "text/plain": [
       "array(['Medium/ Medium', 'High/ Low', 'High/ Medium', 'High/ High',\n",
       "       'Medium/ High', 'Medium/ Low', 'Low/ High', 'Low/ Medium',\n",
       "       'Low/ Low'], dtype=object)"
      ]
     },
     "execution_count": 12,
     "metadata": {},
     "output_type": "execute_result"
    }
   ],
   "source": [
    "Fifa['Work Rate'].unique()"
   ]
  },
  {
   "cell_type": "code",
   "execution_count": null,
   "metadata": {},
   "outputs": [],
   "source": []
  },
  {
   "cell_type": "code",
   "execution_count": 13,
   "metadata": {},
   "outputs": [],
   "source": [
    "w = Fifa['Work Rate'].apply(lambda x: pd.Series(str(x).split(\"/\")))  # splitting the column 'Workrate into two column'\n",
    "w =w.rename(columns = {0:'WR1',1:'WR2'})     #Renaming the two splitted columns\n"
   ]
  },
  {
   "cell_type": "code",
   "execution_count": 14,
   "metadata": {},
   "outputs": [
    {
     "data": {
      "text/html": [
       "<div>\n",
       "<style scoped>\n",
       "    .dataframe tbody tr th:only-of-type {\n",
       "        vertical-align: middle;\n",
       "    }\n",
       "\n",
       "    .dataframe tbody tr th {\n",
       "        vertical-align: top;\n",
       "    }\n",
       "\n",
       "    .dataframe thead th {\n",
       "        text-align: right;\n",
       "    }\n",
       "</style>\n",
       "<table border=\"1\" class=\"dataframe\">\n",
       "  <thead>\n",
       "    <tr style=\"text-align: right;\">\n",
       "      <th></th>\n",
       "      <th>WR1</th>\n",
       "      <th>WR2</th>\n",
       "    </tr>\n",
       "  </thead>\n",
       "  <tbody>\n",
       "    <tr>\n",
       "      <th>0</th>\n",
       "      <td>2</td>\n",
       "      <td>2</td>\n",
       "    </tr>\n",
       "    <tr>\n",
       "      <th>1</th>\n",
       "      <td>3</td>\n",
       "      <td>1</td>\n",
       "    </tr>\n",
       "    <tr>\n",
       "      <th>2</th>\n",
       "      <td>3</td>\n",
       "      <td>2</td>\n",
       "    </tr>\n",
       "    <tr>\n",
       "      <th>3</th>\n",
       "      <td>2</td>\n",
       "      <td>2</td>\n",
       "    </tr>\n",
       "    <tr>\n",
       "      <th>4</th>\n",
       "      <td>3</td>\n",
       "      <td>3</td>\n",
       "    </tr>\n",
       "    <tr>\n",
       "      <th>...</th>\n",
       "      <td>...</td>\n",
       "      <td>...</td>\n",
       "    </tr>\n",
       "    <tr>\n",
       "      <th>18202</th>\n",
       "      <td>2</td>\n",
       "      <td>2</td>\n",
       "    </tr>\n",
       "    <tr>\n",
       "      <th>18203</th>\n",
       "      <td>2</td>\n",
       "      <td>2</td>\n",
       "    </tr>\n",
       "    <tr>\n",
       "      <th>18204</th>\n",
       "      <td>2</td>\n",
       "      <td>2</td>\n",
       "    </tr>\n",
       "    <tr>\n",
       "      <th>18205</th>\n",
       "      <td>2</td>\n",
       "      <td>2</td>\n",
       "    </tr>\n",
       "    <tr>\n",
       "      <th>18206</th>\n",
       "      <td>2</td>\n",
       "      <td>2</td>\n",
       "    </tr>\n",
       "  </tbody>\n",
       "</table>\n",
       "<p>18159 rows × 2 columns</p>\n",
       "</div>"
      ],
      "text/plain": [
       "       WR1  WR2\n",
       "0        2    2\n",
       "1        3    1\n",
       "2        3    2\n",
       "3        2    2\n",
       "4        3    3\n",
       "...    ...  ...\n",
       "18202    2    2\n",
       "18203    2    2\n",
       "18204    2    2\n",
       "18205    2    2\n",
       "18206    2    2\n",
       "\n",
       "[18159 rows x 2 columns]"
      ]
     },
     "execution_count": 14,
     "metadata": {},
     "output_type": "execute_result"
    }
   ],
   "source": [
    "mapping = {' Low':1,' Medium':2,' High':3,'Medium':2,'Low':1,'High':3}\n",
    "#t = lambda s: s**2\n",
    "#w.replace({'MR1':mapping,'MR2':mapping,\"MR3\":mapping})\n",
    "w = w.applymap(lambda s: mapping.get(s) if s in mapping  else s)\n",
    "#w = w.applymap(lambda s: mapping.get(s))\n",
    "#w = w.applymap(t)\n",
    "w"
   ]
  },
  {
   "cell_type": "code",
   "execution_count": 15,
   "metadata": {},
   "outputs": [
    {
     "name": "stderr",
     "output_type": "stream",
     "text": [
      "<ipython-input-15-165e6c5abb6a>:2: SettingWithCopyWarning: \n",
      "A value is trying to be set on a copy of a slice from a DataFrame.\n",
      "Try using .loc[row_indexer,col_indexer] = value instead\n",
      "\n",
      "See the caveats in the documentation: https://pandas.pydata.org/pandas-docs/stable/user_guide/indexing.html#returning-a-view-versus-a-copy\n",
      "  Fifa['WR1'] = w['WR1']\n",
      "<ipython-input-15-165e6c5abb6a>:3: SettingWithCopyWarning: \n",
      "A value is trying to be set on a copy of a slice from a DataFrame.\n",
      "Try using .loc[row_indexer,col_indexer] = value instead\n",
      "\n",
      "See the caveats in the documentation: https://pandas.pydata.org/pandas-docs/stable/user_guide/indexing.html#returning-a-view-versus-a-copy\n",
      "  Fifa['WR2'] = w['WR2']\n"
     ]
    }
   ],
   "source": [
    "# adding the WR1 and WR2 as the columns of the dataset Fifa\n",
    "Fifa['WR1'] = w['WR1']\n",
    "Fifa['WR2'] = w['WR2']"
   ]
  },
  {
   "cell_type": "code",
   "execution_count": 16,
   "metadata": {},
   "outputs": [
    {
     "name": "stderr",
     "output_type": "stream",
     "text": [
      "<ipython-input-16-843afb866475>:2: SettingWithCopyWarning: \n",
      "A value is trying to be set on a copy of a slice from a DataFrame.\n",
      "Try using .loc[row_indexer,col_indexer] = value instead\n",
      "\n",
      "See the caveats in the documentation: https://pandas.pydata.org/pandas-docs/stable/user_guide/indexing.html#returning-a-view-versus-a-copy\n",
      "  Fifa['WR'] = (w['WR1'] +w['WR2'])/2\n"
     ]
    },
    {
     "data": {
      "text/html": [
       "<div>\n",
       "<style scoped>\n",
       "    .dataframe tbody tr th:only-of-type {\n",
       "        vertical-align: middle;\n",
       "    }\n",
       "\n",
       "    .dataframe tbody tr th {\n",
       "        vertical-align: top;\n",
       "    }\n",
       "\n",
       "    .dataframe thead th {\n",
       "        text-align: right;\n",
       "    }\n",
       "</style>\n",
       "<table border=\"1\" class=\"dataframe\">\n",
       "  <thead>\n",
       "    <tr style=\"text-align: right;\">\n",
       "      <th></th>\n",
       "      <th>Name</th>\n",
       "      <th>Age</th>\n",
       "      <th>Nationality</th>\n",
       "      <th>Height</th>\n",
       "      <th>Weight</th>\n",
       "      <th>Overall</th>\n",
       "      <th>Potential</th>\n",
       "      <th>Balance</th>\n",
       "      <th>Stamina</th>\n",
       "      <th>Strength</th>\n",
       "      <th>Dribbling</th>\n",
       "      <th>ShotPower</th>\n",
       "      <th>Jumping</th>\n",
       "      <th>Acceleration</th>\n",
       "      <th>Work Rate</th>\n",
       "      <th>WR1</th>\n",
       "      <th>WR2</th>\n",
       "      <th>WR</th>\n",
       "    </tr>\n",
       "  </thead>\n",
       "  <tbody>\n",
       "    <tr>\n",
       "      <th>0</th>\n",
       "      <td>L. Messi</td>\n",
       "      <td>31</td>\n",
       "      <td>Argentina</td>\n",
       "      <td>5'7</td>\n",
       "      <td>159</td>\n",
       "      <td>94</td>\n",
       "      <td>94</td>\n",
       "      <td>95.0</td>\n",
       "      <td>72.0</td>\n",
       "      <td>59.0</td>\n",
       "      <td>97.0</td>\n",
       "      <td>85.0</td>\n",
       "      <td>68.0</td>\n",
       "      <td>91.0</td>\n",
       "      <td>Medium/ Medium</td>\n",
       "      <td>2</td>\n",
       "      <td>2</td>\n",
       "      <td>2.0</td>\n",
       "    </tr>\n",
       "    <tr>\n",
       "      <th>1</th>\n",
       "      <td>Cristiano Ronaldo</td>\n",
       "      <td>33</td>\n",
       "      <td>Portugal</td>\n",
       "      <td>6'2</td>\n",
       "      <td>183</td>\n",
       "      <td>94</td>\n",
       "      <td>94</td>\n",
       "      <td>70.0</td>\n",
       "      <td>88.0</td>\n",
       "      <td>79.0</td>\n",
       "      <td>88.0</td>\n",
       "      <td>95.0</td>\n",
       "      <td>95.0</td>\n",
       "      <td>89.0</td>\n",
       "      <td>High/ Low</td>\n",
       "      <td>3</td>\n",
       "      <td>1</td>\n",
       "      <td>2.0</td>\n",
       "    </tr>\n",
       "    <tr>\n",
       "      <th>2</th>\n",
       "      <td>Neymar Jr</td>\n",
       "      <td>26</td>\n",
       "      <td>Brazil</td>\n",
       "      <td>5'9</td>\n",
       "      <td>150</td>\n",
       "      <td>92</td>\n",
       "      <td>93</td>\n",
       "      <td>84.0</td>\n",
       "      <td>81.0</td>\n",
       "      <td>49.0</td>\n",
       "      <td>96.0</td>\n",
       "      <td>80.0</td>\n",
       "      <td>61.0</td>\n",
       "      <td>94.0</td>\n",
       "      <td>High/ Medium</td>\n",
       "      <td>3</td>\n",
       "      <td>2</td>\n",
       "      <td>2.5</td>\n",
       "    </tr>\n",
       "    <tr>\n",
       "      <th>3</th>\n",
       "      <td>De Gea</td>\n",
       "      <td>27</td>\n",
       "      <td>Spain</td>\n",
       "      <td>6'4</td>\n",
       "      <td>168</td>\n",
       "      <td>91</td>\n",
       "      <td>93</td>\n",
       "      <td>43.0</td>\n",
       "      <td>43.0</td>\n",
       "      <td>64.0</td>\n",
       "      <td>18.0</td>\n",
       "      <td>31.0</td>\n",
       "      <td>67.0</td>\n",
       "      <td>57.0</td>\n",
       "      <td>Medium/ Medium</td>\n",
       "      <td>2</td>\n",
       "      <td>2</td>\n",
       "      <td>2.0</td>\n",
       "    </tr>\n",
       "    <tr>\n",
       "      <th>4</th>\n",
       "      <td>K. De Bruyne</td>\n",
       "      <td>27</td>\n",
       "      <td>Belgium</td>\n",
       "      <td>5'11</td>\n",
       "      <td>154</td>\n",
       "      <td>91</td>\n",
       "      <td>92</td>\n",
       "      <td>77.0</td>\n",
       "      <td>90.0</td>\n",
       "      <td>75.0</td>\n",
       "      <td>86.0</td>\n",
       "      <td>91.0</td>\n",
       "      <td>63.0</td>\n",
       "      <td>78.0</td>\n",
       "      <td>High/ High</td>\n",
       "      <td>3</td>\n",
       "      <td>3</td>\n",
       "      <td>3.0</td>\n",
       "    </tr>\n",
       "    <tr>\n",
       "      <th>...</th>\n",
       "      <td>...</td>\n",
       "      <td>...</td>\n",
       "      <td>...</td>\n",
       "      <td>...</td>\n",
       "      <td>...</td>\n",
       "      <td>...</td>\n",
       "      <td>...</td>\n",
       "      <td>...</td>\n",
       "      <td>...</td>\n",
       "      <td>...</td>\n",
       "      <td>...</td>\n",
       "      <td>...</td>\n",
       "      <td>...</td>\n",
       "      <td>...</td>\n",
       "      <td>...</td>\n",
       "      <td>...</td>\n",
       "      <td>...</td>\n",
       "      <td>...</td>\n",
       "    </tr>\n",
       "    <tr>\n",
       "      <th>18202</th>\n",
       "      <td>J. Lundstram</td>\n",
       "      <td>19</td>\n",
       "      <td>England</td>\n",
       "      <td>5'9</td>\n",
       "      <td>134</td>\n",
       "      <td>47</td>\n",
       "      <td>65</td>\n",
       "      <td>76.0</td>\n",
       "      <td>40.0</td>\n",
       "      <td>47.0</td>\n",
       "      <td>42.0</td>\n",
       "      <td>43.0</td>\n",
       "      <td>55.0</td>\n",
       "      <td>54.0</td>\n",
       "      <td>Medium/ Medium</td>\n",
       "      <td>2</td>\n",
       "      <td>2</td>\n",
       "      <td>2.0</td>\n",
       "    </tr>\n",
       "    <tr>\n",
       "      <th>18203</th>\n",
       "      <td>N. Christoffersson</td>\n",
       "      <td>19</td>\n",
       "      <td>Sweden</td>\n",
       "      <td>6'3</td>\n",
       "      <td>170</td>\n",
       "      <td>47</td>\n",
       "      <td>63</td>\n",
       "      <td>52.0</td>\n",
       "      <td>43.0</td>\n",
       "      <td>67.0</td>\n",
       "      <td>39.0</td>\n",
       "      <td>41.0</td>\n",
       "      <td>47.0</td>\n",
       "      <td>41.0</td>\n",
       "      <td>Medium/ Medium</td>\n",
       "      <td>2</td>\n",
       "      <td>2</td>\n",
       "      <td>2.0</td>\n",
       "    </tr>\n",
       "    <tr>\n",
       "      <th>18204</th>\n",
       "      <td>B. Worman</td>\n",
       "      <td>16</td>\n",
       "      <td>England</td>\n",
       "      <td>5'8</td>\n",
       "      <td>148</td>\n",
       "      <td>47</td>\n",
       "      <td>67</td>\n",
       "      <td>58.0</td>\n",
       "      <td>55.0</td>\n",
       "      <td>32.0</td>\n",
       "      <td>45.0</td>\n",
       "      <td>45.0</td>\n",
       "      <td>60.0</td>\n",
       "      <td>70.0</td>\n",
       "      <td>Medium/ Medium</td>\n",
       "      <td>2</td>\n",
       "      <td>2</td>\n",
       "      <td>2.0</td>\n",
       "    </tr>\n",
       "    <tr>\n",
       "      <th>18205</th>\n",
       "      <td>D. Walker-Rice</td>\n",
       "      <td>17</td>\n",
       "      <td>England</td>\n",
       "      <td>5'10</td>\n",
       "      <td>154</td>\n",
       "      <td>47</td>\n",
       "      <td>66</td>\n",
       "      <td>71.0</td>\n",
       "      <td>40.0</td>\n",
       "      <td>48.0</td>\n",
       "      <td>51.0</td>\n",
       "      <td>64.0</td>\n",
       "      <td>42.0</td>\n",
       "      <td>61.0</td>\n",
       "      <td>Medium/ Medium</td>\n",
       "      <td>2</td>\n",
       "      <td>2</td>\n",
       "      <td>2.0</td>\n",
       "    </tr>\n",
       "    <tr>\n",
       "      <th>18206</th>\n",
       "      <td>G. Nugent</td>\n",
       "      <td>16</td>\n",
       "      <td>England</td>\n",
       "      <td>5'10</td>\n",
       "      <td>176</td>\n",
       "      <td>46</td>\n",
       "      <td>66</td>\n",
       "      <td>63.0</td>\n",
       "      <td>47.0</td>\n",
       "      <td>60.0</td>\n",
       "      <td>43.0</td>\n",
       "      <td>43.0</td>\n",
       "      <td>62.0</td>\n",
       "      <td>57.0</td>\n",
       "      <td>Medium/ Medium</td>\n",
       "      <td>2</td>\n",
       "      <td>2</td>\n",
       "      <td>2.0</td>\n",
       "    </tr>\n",
       "  </tbody>\n",
       "</table>\n",
       "<p>18159 rows × 18 columns</p>\n",
       "</div>"
      ],
      "text/plain": [
       "                     Name  Age Nationality Height Weight  Overall  Potential  \\\n",
       "0                L. Messi   31   Argentina    5'7    159       94         94   \n",
       "1       Cristiano Ronaldo   33    Portugal    6'2    183       94         94   \n",
       "2               Neymar Jr   26      Brazil    5'9    150       92         93   \n",
       "3                  De Gea   27       Spain    6'4    168       91         93   \n",
       "4            K. De Bruyne   27     Belgium   5'11    154       91         92   \n",
       "...                   ...  ...         ...    ...    ...      ...        ...   \n",
       "18202        J. Lundstram   19     England    5'9    134       47         65   \n",
       "18203  N. Christoffersson   19      Sweden    6'3    170       47         63   \n",
       "18204           B. Worman   16     England    5'8    148       47         67   \n",
       "18205      D. Walker-Rice   17     England   5'10    154       47         66   \n",
       "18206           G. Nugent   16     England   5'10    176       46         66   \n",
       "\n",
       "       Balance  Stamina  Strength  Dribbling  ShotPower  Jumping  \\\n",
       "0         95.0     72.0      59.0       97.0       85.0     68.0   \n",
       "1         70.0     88.0      79.0       88.0       95.0     95.0   \n",
       "2         84.0     81.0      49.0       96.0       80.0     61.0   \n",
       "3         43.0     43.0      64.0       18.0       31.0     67.0   \n",
       "4         77.0     90.0      75.0       86.0       91.0     63.0   \n",
       "...        ...      ...       ...        ...        ...      ...   \n",
       "18202     76.0     40.0      47.0       42.0       43.0     55.0   \n",
       "18203     52.0     43.0      67.0       39.0       41.0     47.0   \n",
       "18204     58.0     55.0      32.0       45.0       45.0     60.0   \n",
       "18205     71.0     40.0      48.0       51.0       64.0     42.0   \n",
       "18206     63.0     47.0      60.0       43.0       43.0     62.0   \n",
       "\n",
       "       Acceleration       Work Rate  WR1  WR2   WR  \n",
       "0              91.0  Medium/ Medium    2    2  2.0  \n",
       "1              89.0       High/ Low    3    1  2.0  \n",
       "2              94.0    High/ Medium    3    2  2.5  \n",
       "3              57.0  Medium/ Medium    2    2  2.0  \n",
       "4              78.0      High/ High    3    3  3.0  \n",
       "...             ...             ...  ...  ...  ...  \n",
       "18202          54.0  Medium/ Medium    2    2  2.0  \n",
       "18203          41.0  Medium/ Medium    2    2  2.0  \n",
       "18204          70.0  Medium/ Medium    2    2  2.0  \n",
       "18205          61.0  Medium/ Medium    2    2  2.0  \n",
       "18206          57.0  Medium/ Medium    2    2  2.0  \n",
       "\n",
       "[18159 rows x 18 columns]"
      ]
     },
     "execution_count": 16,
     "metadata": {},
     "output_type": "execute_result"
    }
   ],
   "source": [
    "# adding a colum of mean of column WR1 and WR2\n",
    "Fifa['WR'] = (w['WR1'] +w['WR2'])/2\n",
    "Fifa"
   ]
  },
  {
   "cell_type": "code",
   "execution_count": 17,
   "metadata": {},
   "outputs": [
    {
     "data": {
      "text/html": [
       "<div>\n",
       "<style scoped>\n",
       "    .dataframe tbody tr th:only-of-type {\n",
       "        vertical-align: middle;\n",
       "    }\n",
       "\n",
       "    .dataframe tbody tr th {\n",
       "        vertical-align: top;\n",
       "    }\n",
       "\n",
       "    .dataframe thead th {\n",
       "        text-align: right;\n",
       "    }\n",
       "</style>\n",
       "<table border=\"1\" class=\"dataframe\">\n",
       "  <thead>\n",
       "    <tr style=\"text-align: right;\">\n",
       "      <th></th>\n",
       "      <th>feet</th>\n",
       "      <th>inches</th>\n",
       "    </tr>\n",
       "  </thead>\n",
       "  <tbody>\n",
       "    <tr>\n",
       "      <th>0</th>\n",
       "      <td>5</td>\n",
       "      <td>7</td>\n",
       "    </tr>\n",
       "    <tr>\n",
       "      <th>1</th>\n",
       "      <td>6</td>\n",
       "      <td>2</td>\n",
       "    </tr>\n",
       "    <tr>\n",
       "      <th>2</th>\n",
       "      <td>5</td>\n",
       "      <td>9</td>\n",
       "    </tr>\n",
       "    <tr>\n",
       "      <th>3</th>\n",
       "      <td>6</td>\n",
       "      <td>4</td>\n",
       "    </tr>\n",
       "    <tr>\n",
       "      <th>4</th>\n",
       "      <td>5</td>\n",
       "      <td>11</td>\n",
       "    </tr>\n",
       "    <tr>\n",
       "      <th>...</th>\n",
       "      <td>...</td>\n",
       "      <td>...</td>\n",
       "    </tr>\n",
       "    <tr>\n",
       "      <th>18202</th>\n",
       "      <td>5</td>\n",
       "      <td>9</td>\n",
       "    </tr>\n",
       "    <tr>\n",
       "      <th>18203</th>\n",
       "      <td>6</td>\n",
       "      <td>3</td>\n",
       "    </tr>\n",
       "    <tr>\n",
       "      <th>18204</th>\n",
       "      <td>5</td>\n",
       "      <td>8</td>\n",
       "    </tr>\n",
       "    <tr>\n",
       "      <th>18205</th>\n",
       "      <td>5</td>\n",
       "      <td>10</td>\n",
       "    </tr>\n",
       "    <tr>\n",
       "      <th>18206</th>\n",
       "      <td>5</td>\n",
       "      <td>10</td>\n",
       "    </tr>\n",
       "  </tbody>\n",
       "</table>\n",
       "<p>18159 rows × 2 columns</p>\n",
       "</div>"
      ],
      "text/plain": [
       "      feet inches\n",
       "0        5      7\n",
       "1        6      2\n",
       "2        5      9\n",
       "3        6      4\n",
       "4        5     11\n",
       "...    ...    ...\n",
       "18202    5      9\n",
       "18203    6      3\n",
       "18204    5      8\n",
       "18205    5     10\n",
       "18206    5     10\n",
       "\n",
       "[18159 rows x 2 columns]"
      ]
     },
     "execution_count": 17,
     "metadata": {},
     "output_type": "execute_result"
    }
   ],
   "source": [
    "#splitting the feet and inches from the column Heighe\n",
    "t = Fifa['Height'].apply(lambda x: pd.Series(str(x).split(\"'\")))\n",
    "t = t.rename(columns = {0:'feet',1:'inches'})\n",
    "t"
   ]
  },
  {
   "cell_type": "code",
   "execution_count": 18,
   "metadata": {},
   "outputs": [
    {
     "name": "stderr",
     "output_type": "stream",
     "text": [
      "<ipython-input-18-bea79b0d5950>:3: SettingWithCopyWarning: \n",
      "A value is trying to be set on a copy of a slice from a DataFrame.\n",
      "Try using .loc[row_indexer,col_indexer] = value instead\n",
      "\n",
      "See the caveats in the documentation: https://pandas.pydata.org/pandas-docs/stable/user_guide/indexing.html#returning-a-view-versus-a-copy\n",
      "  Fifa['Height'] = i\n"
     ]
    },
    {
     "data": {
      "text/html": [
       "<div>\n",
       "<style scoped>\n",
       "    .dataframe tbody tr th:only-of-type {\n",
       "        vertical-align: middle;\n",
       "    }\n",
       "\n",
       "    .dataframe tbody tr th {\n",
       "        vertical-align: top;\n",
       "    }\n",
       "\n",
       "    .dataframe thead th {\n",
       "        text-align: right;\n",
       "    }\n",
       "</style>\n",
       "<table border=\"1\" class=\"dataframe\">\n",
       "  <thead>\n",
       "    <tr style=\"text-align: right;\">\n",
       "      <th></th>\n",
       "      <th>Name</th>\n",
       "      <th>Age</th>\n",
       "      <th>Nationality</th>\n",
       "      <th>Height</th>\n",
       "      <th>Weight</th>\n",
       "      <th>Overall</th>\n",
       "      <th>Potential</th>\n",
       "      <th>Balance</th>\n",
       "      <th>Stamina</th>\n",
       "      <th>Strength</th>\n",
       "      <th>Dribbling</th>\n",
       "      <th>ShotPower</th>\n",
       "      <th>Jumping</th>\n",
       "      <th>Acceleration</th>\n",
       "      <th>Work Rate</th>\n",
       "      <th>WR1</th>\n",
       "      <th>WR2</th>\n",
       "      <th>WR</th>\n",
       "    </tr>\n",
       "  </thead>\n",
       "  <tbody>\n",
       "    <tr>\n",
       "      <th>0</th>\n",
       "      <td>L. Messi</td>\n",
       "      <td>31</td>\n",
       "      <td>Argentina</td>\n",
       "      <td>67</td>\n",
       "      <td>159</td>\n",
       "      <td>94</td>\n",
       "      <td>94</td>\n",
       "      <td>95.0</td>\n",
       "      <td>72.0</td>\n",
       "      <td>59.0</td>\n",
       "      <td>97.0</td>\n",
       "      <td>85.0</td>\n",
       "      <td>68.0</td>\n",
       "      <td>91.0</td>\n",
       "      <td>Medium/ Medium</td>\n",
       "      <td>2</td>\n",
       "      <td>2</td>\n",
       "      <td>2.0</td>\n",
       "    </tr>\n",
       "    <tr>\n",
       "      <th>1</th>\n",
       "      <td>Cristiano Ronaldo</td>\n",
       "      <td>33</td>\n",
       "      <td>Portugal</td>\n",
       "      <td>74</td>\n",
       "      <td>183</td>\n",
       "      <td>94</td>\n",
       "      <td>94</td>\n",
       "      <td>70.0</td>\n",
       "      <td>88.0</td>\n",
       "      <td>79.0</td>\n",
       "      <td>88.0</td>\n",
       "      <td>95.0</td>\n",
       "      <td>95.0</td>\n",
       "      <td>89.0</td>\n",
       "      <td>High/ Low</td>\n",
       "      <td>3</td>\n",
       "      <td>1</td>\n",
       "      <td>2.0</td>\n",
       "    </tr>\n",
       "    <tr>\n",
       "      <th>2</th>\n",
       "      <td>Neymar Jr</td>\n",
       "      <td>26</td>\n",
       "      <td>Brazil</td>\n",
       "      <td>69</td>\n",
       "      <td>150</td>\n",
       "      <td>92</td>\n",
       "      <td>93</td>\n",
       "      <td>84.0</td>\n",
       "      <td>81.0</td>\n",
       "      <td>49.0</td>\n",
       "      <td>96.0</td>\n",
       "      <td>80.0</td>\n",
       "      <td>61.0</td>\n",
       "      <td>94.0</td>\n",
       "      <td>High/ Medium</td>\n",
       "      <td>3</td>\n",
       "      <td>2</td>\n",
       "      <td>2.5</td>\n",
       "    </tr>\n",
       "    <tr>\n",
       "      <th>3</th>\n",
       "      <td>De Gea</td>\n",
       "      <td>27</td>\n",
       "      <td>Spain</td>\n",
       "      <td>76</td>\n",
       "      <td>168</td>\n",
       "      <td>91</td>\n",
       "      <td>93</td>\n",
       "      <td>43.0</td>\n",
       "      <td>43.0</td>\n",
       "      <td>64.0</td>\n",
       "      <td>18.0</td>\n",
       "      <td>31.0</td>\n",
       "      <td>67.0</td>\n",
       "      <td>57.0</td>\n",
       "      <td>Medium/ Medium</td>\n",
       "      <td>2</td>\n",
       "      <td>2</td>\n",
       "      <td>2.0</td>\n",
       "    </tr>\n",
       "    <tr>\n",
       "      <th>4</th>\n",
       "      <td>K. De Bruyne</td>\n",
       "      <td>27</td>\n",
       "      <td>Belgium</td>\n",
       "      <td>71</td>\n",
       "      <td>154</td>\n",
       "      <td>91</td>\n",
       "      <td>92</td>\n",
       "      <td>77.0</td>\n",
       "      <td>90.0</td>\n",
       "      <td>75.0</td>\n",
       "      <td>86.0</td>\n",
       "      <td>91.0</td>\n",
       "      <td>63.0</td>\n",
       "      <td>78.0</td>\n",
       "      <td>High/ High</td>\n",
       "      <td>3</td>\n",
       "      <td>3</td>\n",
       "      <td>3.0</td>\n",
       "    </tr>\n",
       "    <tr>\n",
       "      <th>...</th>\n",
       "      <td>...</td>\n",
       "      <td>...</td>\n",
       "      <td>...</td>\n",
       "      <td>...</td>\n",
       "      <td>...</td>\n",
       "      <td>...</td>\n",
       "      <td>...</td>\n",
       "      <td>...</td>\n",
       "      <td>...</td>\n",
       "      <td>...</td>\n",
       "      <td>...</td>\n",
       "      <td>...</td>\n",
       "      <td>...</td>\n",
       "      <td>...</td>\n",
       "      <td>...</td>\n",
       "      <td>...</td>\n",
       "      <td>...</td>\n",
       "      <td>...</td>\n",
       "    </tr>\n",
       "    <tr>\n",
       "      <th>18202</th>\n",
       "      <td>J. Lundstram</td>\n",
       "      <td>19</td>\n",
       "      <td>England</td>\n",
       "      <td>69</td>\n",
       "      <td>134</td>\n",
       "      <td>47</td>\n",
       "      <td>65</td>\n",
       "      <td>76.0</td>\n",
       "      <td>40.0</td>\n",
       "      <td>47.0</td>\n",
       "      <td>42.0</td>\n",
       "      <td>43.0</td>\n",
       "      <td>55.0</td>\n",
       "      <td>54.0</td>\n",
       "      <td>Medium/ Medium</td>\n",
       "      <td>2</td>\n",
       "      <td>2</td>\n",
       "      <td>2.0</td>\n",
       "    </tr>\n",
       "    <tr>\n",
       "      <th>18203</th>\n",
       "      <td>N. Christoffersson</td>\n",
       "      <td>19</td>\n",
       "      <td>Sweden</td>\n",
       "      <td>75</td>\n",
       "      <td>170</td>\n",
       "      <td>47</td>\n",
       "      <td>63</td>\n",
       "      <td>52.0</td>\n",
       "      <td>43.0</td>\n",
       "      <td>67.0</td>\n",
       "      <td>39.0</td>\n",
       "      <td>41.0</td>\n",
       "      <td>47.0</td>\n",
       "      <td>41.0</td>\n",
       "      <td>Medium/ Medium</td>\n",
       "      <td>2</td>\n",
       "      <td>2</td>\n",
       "      <td>2.0</td>\n",
       "    </tr>\n",
       "    <tr>\n",
       "      <th>18204</th>\n",
       "      <td>B. Worman</td>\n",
       "      <td>16</td>\n",
       "      <td>England</td>\n",
       "      <td>68</td>\n",
       "      <td>148</td>\n",
       "      <td>47</td>\n",
       "      <td>67</td>\n",
       "      <td>58.0</td>\n",
       "      <td>55.0</td>\n",
       "      <td>32.0</td>\n",
       "      <td>45.0</td>\n",
       "      <td>45.0</td>\n",
       "      <td>60.0</td>\n",
       "      <td>70.0</td>\n",
       "      <td>Medium/ Medium</td>\n",
       "      <td>2</td>\n",
       "      <td>2</td>\n",
       "      <td>2.0</td>\n",
       "    </tr>\n",
       "    <tr>\n",
       "      <th>18205</th>\n",
       "      <td>D. Walker-Rice</td>\n",
       "      <td>17</td>\n",
       "      <td>England</td>\n",
       "      <td>70</td>\n",
       "      <td>154</td>\n",
       "      <td>47</td>\n",
       "      <td>66</td>\n",
       "      <td>71.0</td>\n",
       "      <td>40.0</td>\n",
       "      <td>48.0</td>\n",
       "      <td>51.0</td>\n",
       "      <td>64.0</td>\n",
       "      <td>42.0</td>\n",
       "      <td>61.0</td>\n",
       "      <td>Medium/ Medium</td>\n",
       "      <td>2</td>\n",
       "      <td>2</td>\n",
       "      <td>2.0</td>\n",
       "    </tr>\n",
       "    <tr>\n",
       "      <th>18206</th>\n",
       "      <td>G. Nugent</td>\n",
       "      <td>16</td>\n",
       "      <td>England</td>\n",
       "      <td>70</td>\n",
       "      <td>176</td>\n",
       "      <td>46</td>\n",
       "      <td>66</td>\n",
       "      <td>63.0</td>\n",
       "      <td>47.0</td>\n",
       "      <td>60.0</td>\n",
       "      <td>43.0</td>\n",
       "      <td>43.0</td>\n",
       "      <td>62.0</td>\n",
       "      <td>57.0</td>\n",
       "      <td>Medium/ Medium</td>\n",
       "      <td>2</td>\n",
       "      <td>2</td>\n",
       "      <td>2.0</td>\n",
       "    </tr>\n",
       "  </tbody>\n",
       "</table>\n",
       "<p>18159 rows × 18 columns</p>\n",
       "</div>"
      ],
      "text/plain": [
       "                     Name  Age Nationality  Height Weight  Overall  Potential  \\\n",
       "0                L. Messi   31   Argentina      67    159       94         94   \n",
       "1       Cristiano Ronaldo   33    Portugal      74    183       94         94   \n",
       "2               Neymar Jr   26      Brazil      69    150       92         93   \n",
       "3                  De Gea   27       Spain      76    168       91         93   \n",
       "4            K. De Bruyne   27     Belgium      71    154       91         92   \n",
       "...                   ...  ...         ...     ...    ...      ...        ...   \n",
       "18202        J. Lundstram   19     England      69    134       47         65   \n",
       "18203  N. Christoffersson   19      Sweden      75    170       47         63   \n",
       "18204           B. Worman   16     England      68    148       47         67   \n",
       "18205      D. Walker-Rice   17     England      70    154       47         66   \n",
       "18206           G. Nugent   16     England      70    176       46         66   \n",
       "\n",
       "       Balance  Stamina  Strength  Dribbling  ShotPower  Jumping  \\\n",
       "0         95.0     72.0      59.0       97.0       85.0     68.0   \n",
       "1         70.0     88.0      79.0       88.0       95.0     95.0   \n",
       "2         84.0     81.0      49.0       96.0       80.0     61.0   \n",
       "3         43.0     43.0      64.0       18.0       31.0     67.0   \n",
       "4         77.0     90.0      75.0       86.0       91.0     63.0   \n",
       "...        ...      ...       ...        ...        ...      ...   \n",
       "18202     76.0     40.0      47.0       42.0       43.0     55.0   \n",
       "18203     52.0     43.0      67.0       39.0       41.0     47.0   \n",
       "18204     58.0     55.0      32.0       45.0       45.0     60.0   \n",
       "18205     71.0     40.0      48.0       51.0       64.0     42.0   \n",
       "18206     63.0     47.0      60.0       43.0       43.0     62.0   \n",
       "\n",
       "       Acceleration       Work Rate  WR1  WR2   WR  \n",
       "0              91.0  Medium/ Medium    2    2  2.0  \n",
       "1              89.0       High/ Low    3    1  2.0  \n",
       "2              94.0    High/ Medium    3    2  2.5  \n",
       "3              57.0  Medium/ Medium    2    2  2.0  \n",
       "4              78.0      High/ High    3    3  3.0  \n",
       "...             ...             ...  ...  ...  ...  \n",
       "18202          54.0  Medium/ Medium    2    2  2.0  \n",
       "18203          41.0  Medium/ Medium    2    2  2.0  \n",
       "18204          70.0  Medium/ Medium    2    2  2.0  \n",
       "18205          61.0  Medium/ Medium    2    2  2.0  \n",
       "18206          57.0  Medium/ Medium    2    2  2.0  \n",
       "\n",
       "[18159 rows x 18 columns]"
      ]
     },
     "execution_count": 18,
     "metadata": {},
     "output_type": "execute_result"
    }
   ],
   "source": [
    "#cchanginh object to numerics to find mean and mean is appending on the data frame as a last column.\n",
    "i = pd.to_numeric(t['feet'])*12+ pd.to_numeric(t['inches'])\n",
    "Fifa['Height'] = i\n",
    "Fifa\n"
   ]
  },
  {
   "cell_type": "code",
   "execution_count": null,
   "metadata": {},
   "outputs": [],
   "source": []
  },
  {
   "cell_type": "markdown",
   "metadata": {},
   "source": [
    "### Normalizing the every Features using StandardScalser(z-score)"
   ]
  },
  {
   "cell_type": "code",
   "execution_count": 19,
   "metadata": {},
   "outputs": [
    {
     "name": "stderr",
     "output_type": "stream",
     "text": [
      "<ipython-input-19-0bfbfa35d914>:2: SettingWithCopyWarning: \n",
      "A value is trying to be set on a copy of a slice from a DataFrame.\n",
      "Try using .loc[row_indexer,col_indexer] = value instead\n",
      "\n",
      "See the caveats in the documentation: https://pandas.pydata.org/pandas-docs/stable/user_guide/indexing.html#returning-a-view-versus-a-copy\n",
      "  Fifa['Height']=scaler.fit(Fifa[['Height']]).transform(Fifa[['Height']])\n",
      "<ipython-input-19-0bfbfa35d914>:3: SettingWithCopyWarning: \n",
      "A value is trying to be set on a copy of a slice from a DataFrame.\n",
      "Try using .loc[row_indexer,col_indexer] = value instead\n",
      "\n",
      "See the caveats in the documentation: https://pandas.pydata.org/pandas-docs/stable/user_guide/indexing.html#returning-a-view-versus-a-copy\n",
      "  Fifa['Weight']=scaler.fit(Fifa[['Weight']]).transform(Fifa[['Weight']])\n",
      "<ipython-input-19-0bfbfa35d914>:4: SettingWithCopyWarning: \n",
      "A value is trying to be set on a copy of a slice from a DataFrame.\n",
      "Try using .loc[row_indexer,col_indexer] = value instead\n",
      "\n",
      "See the caveats in the documentation: https://pandas.pydata.org/pandas-docs/stable/user_guide/indexing.html#returning-a-view-versus-a-copy\n",
      "  Fifa['Age']=scaler.fit(Fifa[['Age']]).transform(Fifa[['Age']])\n",
      "<ipython-input-19-0bfbfa35d914>:5: SettingWithCopyWarning: \n",
      "A value is trying to be set on a copy of a slice from a DataFrame.\n",
      "Try using .loc[row_indexer,col_indexer] = value instead\n",
      "\n",
      "See the caveats in the documentation: https://pandas.pydata.org/pandas-docs/stable/user_guide/indexing.html#returning-a-view-versus-a-copy\n",
      "  Fifa['Overall']=scaler.fit(Fifa[['Overall']]).transform(Fifa[['Overall']])\n",
      "<ipython-input-19-0bfbfa35d914>:6: SettingWithCopyWarning: \n",
      "A value is trying to be set on a copy of a slice from a DataFrame.\n",
      "Try using .loc[row_indexer,col_indexer] = value instead\n",
      "\n",
      "See the caveats in the documentation: https://pandas.pydata.org/pandas-docs/stable/user_guide/indexing.html#returning-a-view-versus-a-copy\n",
      "  Fifa['Potential']=scaler.fit(Fifa[['Potential']]).transform(Fifa[['Potential']])\n",
      "<ipython-input-19-0bfbfa35d914>:7: SettingWithCopyWarning: \n",
      "A value is trying to be set on a copy of a slice from a DataFrame.\n",
      "Try using .loc[row_indexer,col_indexer] = value instead\n",
      "\n",
      "See the caveats in the documentation: https://pandas.pydata.org/pandas-docs/stable/user_guide/indexing.html#returning-a-view-versus-a-copy\n",
      "  Fifa['Balance']=scaler.fit(Fifa[['Balance']]).transform(Fifa[['Balance']])\n",
      "<ipython-input-19-0bfbfa35d914>:8: SettingWithCopyWarning: \n",
      "A value is trying to be set on a copy of a slice from a DataFrame.\n",
      "Try using .loc[row_indexer,col_indexer] = value instead\n",
      "\n",
      "See the caveats in the documentation: https://pandas.pydata.org/pandas-docs/stable/user_guide/indexing.html#returning-a-view-versus-a-copy\n",
      "  Fifa['Stamina']=scaler.fit(Fifa[['Stamina']]).transform(Fifa[['Stamina']])\n",
      "<ipython-input-19-0bfbfa35d914>:9: SettingWithCopyWarning: \n",
      "A value is trying to be set on a copy of a slice from a DataFrame.\n",
      "Try using .loc[row_indexer,col_indexer] = value instead\n",
      "\n",
      "See the caveats in the documentation: https://pandas.pydata.org/pandas-docs/stable/user_guide/indexing.html#returning-a-view-versus-a-copy\n",
      "  Fifa['Strength']=scaler.fit(Fifa[['Strength']]).transform(Fifa[['Strength']])\n",
      "<ipython-input-19-0bfbfa35d914>:10: SettingWithCopyWarning: \n",
      "A value is trying to be set on a copy of a slice from a DataFrame.\n",
      "Try using .loc[row_indexer,col_indexer] = value instead\n",
      "\n",
      "See the caveats in the documentation: https://pandas.pydata.org/pandas-docs/stable/user_guide/indexing.html#returning-a-view-versus-a-copy\n",
      "  Fifa['Dribbling']=scaler.fit(Fifa[['Dribbling']]).transform(Fifa[['Dribbling']])\n",
      "<ipython-input-19-0bfbfa35d914>:11: SettingWithCopyWarning: \n",
      "A value is trying to be set on a copy of a slice from a DataFrame.\n",
      "Try using .loc[row_indexer,col_indexer] = value instead\n",
      "\n",
      "See the caveats in the documentation: https://pandas.pydata.org/pandas-docs/stable/user_guide/indexing.html#returning-a-view-versus-a-copy\n",
      "  Fifa['ShotPower']=scaler.fit(Fifa[['ShotPower']]).transform(Fifa[['ShotPower']])\n",
      "<ipython-input-19-0bfbfa35d914>:12: SettingWithCopyWarning: \n",
      "A value is trying to be set on a copy of a slice from a DataFrame.\n",
      "Try using .loc[row_indexer,col_indexer] = value instead\n",
      "\n",
      "See the caveats in the documentation: https://pandas.pydata.org/pandas-docs/stable/user_guide/indexing.html#returning-a-view-versus-a-copy\n",
      "  Fifa['Acceleration']=scaler.fit(Fifa[['Acceleration']]).transform(Fifa[['Acceleration']])\n",
      "<ipython-input-19-0bfbfa35d914>:13: SettingWithCopyWarning: \n",
      "A value is trying to be set on a copy of a slice from a DataFrame.\n",
      "Try using .loc[row_indexer,col_indexer] = value instead\n",
      "\n",
      "See the caveats in the documentation: https://pandas.pydata.org/pandas-docs/stable/user_guide/indexing.html#returning-a-view-versus-a-copy\n",
      "  Fifa['Jumping']=scaler.fit(Fifa[['Jumping']]).transform(Fifa[['Jumping']])\n",
      "<ipython-input-19-0bfbfa35d914>:14: SettingWithCopyWarning: \n",
      "A value is trying to be set on a copy of a slice from a DataFrame.\n",
      "Try using .loc[row_indexer,col_indexer] = value instead\n",
      "\n",
      "See the caveats in the documentation: https://pandas.pydata.org/pandas-docs/stable/user_guide/indexing.html#returning-a-view-versus-a-copy\n",
      "  Fifa['WR1']=scaler.fit(Fifa[['WR1']]).transform(Fifa[['WR1']])\n",
      "<ipython-input-19-0bfbfa35d914>:15: SettingWithCopyWarning: \n",
      "A value is trying to be set on a copy of a slice from a DataFrame.\n",
      "Try using .loc[row_indexer,col_indexer] = value instead\n",
      "\n",
      "See the caveats in the documentation: https://pandas.pydata.org/pandas-docs/stable/user_guide/indexing.html#returning-a-view-versus-a-copy\n",
      "  Fifa['WR2']=scaler.fit(Fifa[['WR2']]).transform(Fifa[['WR2']])\n",
      "<ipython-input-19-0bfbfa35d914>:16: SettingWithCopyWarning: \n",
      "A value is trying to be set on a copy of a slice from a DataFrame.\n",
      "Try using .loc[row_indexer,col_indexer] = value instead\n",
      "\n",
      "See the caveats in the documentation: https://pandas.pydata.org/pandas-docs/stable/user_guide/indexing.html#returning-a-view-versus-a-copy\n",
      "  Fifa['WR']=scaler.fit(Fifa[['WR']]).transform(Fifa[['WR']])\n"
     ]
    },
    {
     "data": {
      "text/html": [
       "<div>\n",
       "<style scoped>\n",
       "    .dataframe tbody tr th:only-of-type {\n",
       "        vertical-align: middle;\n",
       "    }\n",
       "\n",
       "    .dataframe tbody tr th {\n",
       "        vertical-align: top;\n",
       "    }\n",
       "\n",
       "    .dataframe thead th {\n",
       "        text-align: right;\n",
       "    }\n",
       "</style>\n",
       "<table border=\"1\" class=\"dataframe\">\n",
       "  <thead>\n",
       "    <tr style=\"text-align: right;\">\n",
       "      <th></th>\n",
       "      <th>Name</th>\n",
       "      <th>Age</th>\n",
       "      <th>Nationality</th>\n",
       "      <th>Height</th>\n",
       "      <th>Weight</th>\n",
       "      <th>Overall</th>\n",
       "      <th>Potential</th>\n",
       "      <th>Balance</th>\n",
       "      <th>Stamina</th>\n",
       "      <th>Strength</th>\n",
       "      <th>Dribbling</th>\n",
       "      <th>ShotPower</th>\n",
       "      <th>Jumping</th>\n",
       "      <th>Acceleration</th>\n",
       "      <th>Work Rate</th>\n",
       "      <th>WR1</th>\n",
       "      <th>WR2</th>\n",
       "      <th>WR</th>\n",
       "    </tr>\n",
       "  </thead>\n",
       "  <tbody>\n",
       "    <tr>\n",
       "      <th>0</th>\n",
       "      <td>L. Messi</td>\n",
       "      <td>1.258441</td>\n",
       "      <td>Argentina</td>\n",
       "      <td>-1.646010</td>\n",
       "      <td>-0.447583</td>\n",
       "      <td>4.013364</td>\n",
       "      <td>3.697415</td>\n",
       "      <td>2.195382</td>\n",
       "      <td>0.552403</td>\n",
       "      <td>-0.502679</td>\n",
       "      <td>2.201445</td>\n",
       "      <td>1.713704</td>\n",
       "      <td>0.246247</td>\n",
       "      <td>1.767621</td>\n",
       "      <td>Medium/ Medium</td>\n",
       "      <td>-0.418496</td>\n",
       "      <td>-0.170930</td>\n",
       "      <td>-0.440246</td>\n",
       "    </tr>\n",
       "    <tr>\n",
       "      <th>1</th>\n",
       "      <td>Cristiano Ronaldo</td>\n",
       "      <td>1.686666</td>\n",
       "      <td>Portugal</td>\n",
       "      <td>0.995907</td>\n",
       "      <td>1.091577</td>\n",
       "      <td>4.013364</td>\n",
       "      <td>3.697415</td>\n",
       "      <td>0.426820</td>\n",
       "      <td>1.559053</td>\n",
       "      <td>1.090102</td>\n",
       "      <td>1.725503</td>\n",
       "      <td>2.293836</td>\n",
       "      <td>2.530565</td>\n",
       "      <td>1.633639</td>\n",
       "      <td>High/ Low</td>\n",
       "      <td>1.498141</td>\n",
       "      <td>-2.159343</td>\n",
       "      <td>-0.440246</td>\n",
       "    </tr>\n",
       "    <tr>\n",
       "      <th>2</th>\n",
       "      <td>Neymar Jr</td>\n",
       "      <td>0.187878</td>\n",
       "      <td>Brazil</td>\n",
       "      <td>-0.891177</td>\n",
       "      <td>-1.024769</td>\n",
       "      <td>3.724114</td>\n",
       "      <td>3.534396</td>\n",
       "      <td>1.417214</td>\n",
       "      <td>1.118643</td>\n",
       "      <td>-1.299069</td>\n",
       "      <td>2.148563</td>\n",
       "      <td>1.423639</td>\n",
       "      <td>-0.345984</td>\n",
       "      <td>1.968594</td>\n",
       "      <td>High/ Medium</td>\n",
       "      <td>1.498141</td>\n",
       "      <td>-0.170930</td>\n",
       "      <td>1.006448</td>\n",
       "    </tr>\n",
       "    <tr>\n",
       "      <th>3</th>\n",
       "      <td>De Gea</td>\n",
       "      <td>0.401990</td>\n",
       "      <td>Spain</td>\n",
       "      <td>1.750741</td>\n",
       "      <td>0.129602</td>\n",
       "      <td>3.579489</td>\n",
       "      <td>3.534396</td>\n",
       "      <td>-1.483228</td>\n",
       "      <td>-1.272151</td>\n",
       "      <td>-0.104484</td>\n",
       "      <td>-1.976272</td>\n",
       "      <td>-1.419003</td>\n",
       "      <td>0.161642</td>\n",
       "      <td>-0.510075</td>\n",
       "      <td>Medium/ Medium</td>\n",
       "      <td>-0.418496</td>\n",
       "      <td>-0.170930</td>\n",
       "      <td>-0.440246</td>\n",
       "    </tr>\n",
       "    <tr>\n",
       "      <th>4</th>\n",
       "      <td>K. De Bruyne</td>\n",
       "      <td>0.401990</td>\n",
       "      <td>Belgium</td>\n",
       "      <td>-0.136343</td>\n",
       "      <td>-0.768242</td>\n",
       "      <td>3.579489</td>\n",
       "      <td>3.371377</td>\n",
       "      <td>0.922017</td>\n",
       "      <td>1.684884</td>\n",
       "      <td>0.771546</td>\n",
       "      <td>1.619738</td>\n",
       "      <td>2.061783</td>\n",
       "      <td>-0.176775</td>\n",
       "      <td>0.896737</td>\n",
       "      <td>High/ High</td>\n",
       "      <td>1.498141</td>\n",
       "      <td>1.817483</td>\n",
       "      <td>2.453143</td>\n",
       "    </tr>\n",
       "  </tbody>\n",
       "</table>\n",
       "</div>"
      ],
      "text/plain": [
       "                Name       Age Nationality    Height    Weight   Overall  \\\n",
       "0           L. Messi  1.258441   Argentina -1.646010 -0.447583  4.013364   \n",
       "1  Cristiano Ronaldo  1.686666    Portugal  0.995907  1.091577  4.013364   \n",
       "2          Neymar Jr  0.187878      Brazil -0.891177 -1.024769  3.724114   \n",
       "3             De Gea  0.401990       Spain  1.750741  0.129602  3.579489   \n",
       "4       K. De Bruyne  0.401990     Belgium -0.136343 -0.768242  3.579489   \n",
       "\n",
       "   Potential   Balance   Stamina  Strength  Dribbling  ShotPower   Jumping  \\\n",
       "0   3.697415  2.195382  0.552403 -0.502679   2.201445   1.713704  0.246247   \n",
       "1   3.697415  0.426820  1.559053  1.090102   1.725503   2.293836  2.530565   \n",
       "2   3.534396  1.417214  1.118643 -1.299069   2.148563   1.423639 -0.345984   \n",
       "3   3.534396 -1.483228 -1.272151 -0.104484  -1.976272  -1.419003  0.161642   \n",
       "4   3.371377  0.922017  1.684884  0.771546   1.619738   2.061783 -0.176775   \n",
       "\n",
       "   Acceleration       Work Rate       WR1       WR2        WR  \n",
       "0      1.767621  Medium/ Medium -0.418496 -0.170930 -0.440246  \n",
       "1      1.633639       High/ Low  1.498141 -2.159343 -0.440246  \n",
       "2      1.968594    High/ Medium  1.498141 -0.170930  1.006448  \n",
       "3     -0.510075  Medium/ Medium -0.418496 -0.170930 -0.440246  \n",
       "4      0.896737      High/ High  1.498141  1.817483  2.453143  "
      ]
     },
     "execution_count": 19,
     "metadata": {},
     "output_type": "execute_result"
    }
   ],
   "source": [
    "scaler = StandardScaler()\n",
    "Fifa['Height']=scaler.fit(Fifa[['Height']]).transform(Fifa[['Height']])\n",
    "Fifa['Weight']=scaler.fit(Fifa[['Weight']]).transform(Fifa[['Weight']])\n",
    "Fifa['Age']=scaler.fit(Fifa[['Age']]).transform(Fifa[['Age']])\n",
    "Fifa['Overall']=scaler.fit(Fifa[['Overall']]).transform(Fifa[['Overall']])\n",
    "Fifa['Potential']=scaler.fit(Fifa[['Potential']]).transform(Fifa[['Potential']])\n",
    "Fifa['Balance']=scaler.fit(Fifa[['Balance']]).transform(Fifa[['Balance']])\n",
    "Fifa['Stamina']=scaler.fit(Fifa[['Stamina']]).transform(Fifa[['Stamina']])\n",
    "Fifa['Strength']=scaler.fit(Fifa[['Strength']]).transform(Fifa[['Strength']])\n",
    "Fifa['Dribbling']=scaler.fit(Fifa[['Dribbling']]).transform(Fifa[['Dribbling']])\n",
    "Fifa['ShotPower']=scaler.fit(Fifa[['ShotPower']]).transform(Fifa[['ShotPower']])\n",
    "Fifa['Acceleration']=scaler.fit(Fifa[['Acceleration']]).transform(Fifa[['Acceleration']])\n",
    "Fifa['Jumping']=scaler.fit(Fifa[['Jumping']]).transform(Fifa[['Jumping']])\n",
    "Fifa['WR1']=scaler.fit(Fifa[['WR1']]).transform(Fifa[['WR1']])\n",
    "Fifa['WR2']=scaler.fit(Fifa[['WR2']]).transform(Fifa[['WR2']])\n",
    "Fifa['WR']=scaler.fit(Fifa[['WR']]).transform(Fifa[['WR']])\n",
    "Fifa.head()"
   ]
  },
  {
   "cell_type": "code",
   "execution_count": 20,
   "metadata": {},
   "outputs": [
    {
     "data": {
      "text/html": [
       "<div>\n",
       "<style scoped>\n",
       "    .dataframe tbody tr th:only-of-type {\n",
       "        vertical-align: middle;\n",
       "    }\n",
       "\n",
       "    .dataframe tbody tr th {\n",
       "        vertical-align: top;\n",
       "    }\n",
       "\n",
       "    .dataframe thead th {\n",
       "        text-align: right;\n",
       "    }\n",
       "</style>\n",
       "<table border=\"1\" class=\"dataframe\">\n",
       "  <thead>\n",
       "    <tr style=\"text-align: right;\">\n",
       "      <th></th>\n",
       "      <th>Name</th>\n",
       "      <th>Age</th>\n",
       "      <th>Nationality</th>\n",
       "      <th>Height</th>\n",
       "      <th>Weight</th>\n",
       "      <th>Overall</th>\n",
       "      <th>Potential</th>\n",
       "      <th>Balance</th>\n",
       "      <th>Stamina</th>\n",
       "      <th>Strength</th>\n",
       "      <th>Dribbling</th>\n",
       "      <th>ShotPower</th>\n",
       "      <th>Jumping</th>\n",
       "      <th>Acceleration</th>\n",
       "      <th>WR1</th>\n",
       "      <th>WR2</th>\n",
       "      <th>WR</th>\n",
       "    </tr>\n",
       "  </thead>\n",
       "  <tbody>\n",
       "    <tr>\n",
       "      <th>0</th>\n",
       "      <td>L. Messi</td>\n",
       "      <td>1.258441</td>\n",
       "      <td>Argentina</td>\n",
       "      <td>-1.646010</td>\n",
       "      <td>-0.447583</td>\n",
       "      <td>4.013364</td>\n",
       "      <td>3.697415</td>\n",
       "      <td>2.195382</td>\n",
       "      <td>0.552403</td>\n",
       "      <td>-0.502679</td>\n",
       "      <td>2.201445</td>\n",
       "      <td>1.713704</td>\n",
       "      <td>0.246247</td>\n",
       "      <td>1.767621</td>\n",
       "      <td>-0.418496</td>\n",
       "      <td>-0.170930</td>\n",
       "      <td>-0.440246</td>\n",
       "    </tr>\n",
       "    <tr>\n",
       "      <th>1</th>\n",
       "      <td>Cristiano Ronaldo</td>\n",
       "      <td>1.686666</td>\n",
       "      <td>Portugal</td>\n",
       "      <td>0.995907</td>\n",
       "      <td>1.091577</td>\n",
       "      <td>4.013364</td>\n",
       "      <td>3.697415</td>\n",
       "      <td>0.426820</td>\n",
       "      <td>1.559053</td>\n",
       "      <td>1.090102</td>\n",
       "      <td>1.725503</td>\n",
       "      <td>2.293836</td>\n",
       "      <td>2.530565</td>\n",
       "      <td>1.633639</td>\n",
       "      <td>1.498141</td>\n",
       "      <td>-2.159343</td>\n",
       "      <td>-0.440246</td>\n",
       "    </tr>\n",
       "    <tr>\n",
       "      <th>2</th>\n",
       "      <td>Neymar Jr</td>\n",
       "      <td>0.187878</td>\n",
       "      <td>Brazil</td>\n",
       "      <td>-0.891177</td>\n",
       "      <td>-1.024769</td>\n",
       "      <td>3.724114</td>\n",
       "      <td>3.534396</td>\n",
       "      <td>1.417214</td>\n",
       "      <td>1.118643</td>\n",
       "      <td>-1.299069</td>\n",
       "      <td>2.148563</td>\n",
       "      <td>1.423639</td>\n",
       "      <td>-0.345984</td>\n",
       "      <td>1.968594</td>\n",
       "      <td>1.498141</td>\n",
       "      <td>-0.170930</td>\n",
       "      <td>1.006448</td>\n",
       "    </tr>\n",
       "    <tr>\n",
       "      <th>3</th>\n",
       "      <td>De Gea</td>\n",
       "      <td>0.401990</td>\n",
       "      <td>Spain</td>\n",
       "      <td>1.750741</td>\n",
       "      <td>0.129602</td>\n",
       "      <td>3.579489</td>\n",
       "      <td>3.534396</td>\n",
       "      <td>-1.483228</td>\n",
       "      <td>-1.272151</td>\n",
       "      <td>-0.104484</td>\n",
       "      <td>-1.976272</td>\n",
       "      <td>-1.419003</td>\n",
       "      <td>0.161642</td>\n",
       "      <td>-0.510075</td>\n",
       "      <td>-0.418496</td>\n",
       "      <td>-0.170930</td>\n",
       "      <td>-0.440246</td>\n",
       "    </tr>\n",
       "    <tr>\n",
       "      <th>4</th>\n",
       "      <td>K. De Bruyne</td>\n",
       "      <td>0.401990</td>\n",
       "      <td>Belgium</td>\n",
       "      <td>-0.136343</td>\n",
       "      <td>-0.768242</td>\n",
       "      <td>3.579489</td>\n",
       "      <td>3.371377</td>\n",
       "      <td>0.922017</td>\n",
       "      <td>1.684884</td>\n",
       "      <td>0.771546</td>\n",
       "      <td>1.619738</td>\n",
       "      <td>2.061783</td>\n",
       "      <td>-0.176775</td>\n",
       "      <td>0.896737</td>\n",
       "      <td>1.498141</td>\n",
       "      <td>1.817483</td>\n",
       "      <td>2.453143</td>\n",
       "    </tr>\n",
       "    <tr>\n",
       "      <th>...</th>\n",
       "      <td>...</td>\n",
       "      <td>...</td>\n",
       "      <td>...</td>\n",
       "      <td>...</td>\n",
       "      <td>...</td>\n",
       "      <td>...</td>\n",
       "      <td>...</td>\n",
       "      <td>...</td>\n",
       "      <td>...</td>\n",
       "      <td>...</td>\n",
       "      <td>...</td>\n",
       "      <td>...</td>\n",
       "      <td>...</td>\n",
       "      <td>...</td>\n",
       "      <td>...</td>\n",
       "      <td>...</td>\n",
       "      <td>...</td>\n",
       "    </tr>\n",
       "    <tr>\n",
       "      <th>18202</th>\n",
       "      <td>J. Lundstram</td>\n",
       "      <td>-1.310911</td>\n",
       "      <td>England</td>\n",
       "      <td>-0.891177</td>\n",
       "      <td>-2.050876</td>\n",
       "      <td>-2.784022</td>\n",
       "      <td>-1.030138</td>\n",
       "      <td>0.851275</td>\n",
       "      <td>-1.460897</td>\n",
       "      <td>-1.458348</td>\n",
       "      <td>-0.707092</td>\n",
       "      <td>-0.722846</td>\n",
       "      <td>-0.853610</td>\n",
       "      <td>-0.711048</td>\n",
       "      <td>-0.418496</td>\n",
       "      <td>-0.170930</td>\n",
       "      <td>-0.440246</td>\n",
       "    </tr>\n",
       "    <tr>\n",
       "      <th>18203</th>\n",
       "      <td>N. Christoffersson</td>\n",
       "      <td>-1.310911</td>\n",
       "      <td>Sweden</td>\n",
       "      <td>1.373324</td>\n",
       "      <td>0.257865</td>\n",
       "      <td>-2.784022</td>\n",
       "      <td>-1.356176</td>\n",
       "      <td>-0.846545</td>\n",
       "      <td>-1.272151</td>\n",
       "      <td>0.134433</td>\n",
       "      <td>-0.865739</td>\n",
       "      <td>-0.838872</td>\n",
       "      <td>-1.530445</td>\n",
       "      <td>-1.581932</td>\n",
       "      <td>-0.418496</td>\n",
       "      <td>-0.170930</td>\n",
       "      <td>-0.440246</td>\n",
       "    </tr>\n",
       "    <tr>\n",
       "      <th>18204</th>\n",
       "      <td>B. Worman</td>\n",
       "      <td>-1.953248</td>\n",
       "      <td>England</td>\n",
       "      <td>-1.268593</td>\n",
       "      <td>-1.153032</td>\n",
       "      <td>-2.784022</td>\n",
       "      <td>-0.704100</td>\n",
       "      <td>-0.422090</td>\n",
       "      <td>-0.517163</td>\n",
       "      <td>-2.652933</td>\n",
       "      <td>-0.548444</td>\n",
       "      <td>-0.606820</td>\n",
       "      <td>-0.430588</td>\n",
       "      <td>0.360809</td>\n",
       "      <td>-0.418496</td>\n",
       "      <td>-0.170930</td>\n",
       "      <td>-0.440246</td>\n",
       "    </tr>\n",
       "    <tr>\n",
       "      <th>18205</th>\n",
       "      <td>D. Walker-Rice</td>\n",
       "      <td>-1.739136</td>\n",
       "      <td>England</td>\n",
       "      <td>-0.513760</td>\n",
       "      <td>-0.768242</td>\n",
       "      <td>-2.784022</td>\n",
       "      <td>-0.867119</td>\n",
       "      <td>0.497562</td>\n",
       "      <td>-1.460897</td>\n",
       "      <td>-1.378709</td>\n",
       "      <td>-0.231149</td>\n",
       "      <td>0.495429</td>\n",
       "      <td>-1.953467</td>\n",
       "      <td>-0.242111</td>\n",
       "      <td>-0.418496</td>\n",
       "      <td>-0.170930</td>\n",
       "      <td>-0.440246</td>\n",
       "    </tr>\n",
       "    <tr>\n",
       "      <th>18206</th>\n",
       "      <td>G. Nugent</td>\n",
       "      <td>-1.953248</td>\n",
       "      <td>England</td>\n",
       "      <td>-0.513760</td>\n",
       "      <td>0.642655</td>\n",
       "      <td>-2.928647</td>\n",
       "      <td>-0.867119</td>\n",
       "      <td>-0.068378</td>\n",
       "      <td>-1.020488</td>\n",
       "      <td>-0.423040</td>\n",
       "      <td>-0.654209</td>\n",
       "      <td>-0.722846</td>\n",
       "      <td>-0.261380</td>\n",
       "      <td>-0.510075</td>\n",
       "      <td>-0.418496</td>\n",
       "      <td>-0.170930</td>\n",
       "      <td>-0.440246</td>\n",
       "    </tr>\n",
       "  </tbody>\n",
       "</table>\n",
       "<p>18159 rows × 17 columns</p>\n",
       "</div>"
      ],
      "text/plain": [
       "                     Name       Age Nationality    Height    Weight   Overall  \\\n",
       "0                L. Messi  1.258441   Argentina -1.646010 -0.447583  4.013364   \n",
       "1       Cristiano Ronaldo  1.686666    Portugal  0.995907  1.091577  4.013364   \n",
       "2               Neymar Jr  0.187878      Brazil -0.891177 -1.024769  3.724114   \n",
       "3                  De Gea  0.401990       Spain  1.750741  0.129602  3.579489   \n",
       "4            K. De Bruyne  0.401990     Belgium -0.136343 -0.768242  3.579489   \n",
       "...                   ...       ...         ...       ...       ...       ...   \n",
       "18202        J. Lundstram -1.310911     England -0.891177 -2.050876 -2.784022   \n",
       "18203  N. Christoffersson -1.310911      Sweden  1.373324  0.257865 -2.784022   \n",
       "18204           B. Worman -1.953248     England -1.268593 -1.153032 -2.784022   \n",
       "18205      D. Walker-Rice -1.739136     England -0.513760 -0.768242 -2.784022   \n",
       "18206           G. Nugent -1.953248     England -0.513760  0.642655 -2.928647   \n",
       "\n",
       "       Potential   Balance   Stamina  Strength  Dribbling  ShotPower  \\\n",
       "0       3.697415  2.195382  0.552403 -0.502679   2.201445   1.713704   \n",
       "1       3.697415  0.426820  1.559053  1.090102   1.725503   2.293836   \n",
       "2       3.534396  1.417214  1.118643 -1.299069   2.148563   1.423639   \n",
       "3       3.534396 -1.483228 -1.272151 -0.104484  -1.976272  -1.419003   \n",
       "4       3.371377  0.922017  1.684884  0.771546   1.619738   2.061783   \n",
       "...          ...       ...       ...       ...        ...        ...   \n",
       "18202  -1.030138  0.851275 -1.460897 -1.458348  -0.707092  -0.722846   \n",
       "18203  -1.356176 -0.846545 -1.272151  0.134433  -0.865739  -0.838872   \n",
       "18204  -0.704100 -0.422090 -0.517163 -2.652933  -0.548444  -0.606820   \n",
       "18205  -0.867119  0.497562 -1.460897 -1.378709  -0.231149   0.495429   \n",
       "18206  -0.867119 -0.068378 -1.020488 -0.423040  -0.654209  -0.722846   \n",
       "\n",
       "        Jumping  Acceleration       WR1       WR2        WR  \n",
       "0      0.246247      1.767621 -0.418496 -0.170930 -0.440246  \n",
       "1      2.530565      1.633639  1.498141 -2.159343 -0.440246  \n",
       "2     -0.345984      1.968594  1.498141 -0.170930  1.006448  \n",
       "3      0.161642     -0.510075 -0.418496 -0.170930 -0.440246  \n",
       "4     -0.176775      0.896737  1.498141  1.817483  2.453143  \n",
       "...         ...           ...       ...       ...       ...  \n",
       "18202 -0.853610     -0.711048 -0.418496 -0.170930 -0.440246  \n",
       "18203 -1.530445     -1.581932 -0.418496 -0.170930 -0.440246  \n",
       "18204 -0.430588      0.360809 -0.418496 -0.170930 -0.440246  \n",
       "18205 -1.953467     -0.242111 -0.418496 -0.170930 -0.440246  \n",
       "18206 -0.261380     -0.510075 -0.418496 -0.170930 -0.440246  \n",
       "\n",
       "[18159 rows x 17 columns]"
      ]
     },
     "execution_count": 20,
     "metadata": {},
     "output_type": "execute_result"
    }
   ],
   "source": [
    "#Dropping The Column Work Rate\n",
    "Fifa.drop(['Work Rate'],axis=1)"
   ]
  },
  {
   "cell_type": "code",
   "execution_count": 21,
   "metadata": {},
   "outputs": [
    {
     "name": "stderr",
     "output_type": "stream",
     "text": [
      "C:\\Users\\dpdulal\\Anaconda3\\lib\\site-packages\\pandas\\core\\series.py:4563: SettingWithCopyWarning: \n",
      "A value is trying to be set on a copy of a slice from a DataFrame\n",
      "\n",
      "See the caveats in the documentation: https://pandas.pydata.org/pandas-docs/stable/user_guide/indexing.html#returning-a-view-versus-a-copy\n",
      "  return super().replace(\n"
     ]
    }
   ],
   "source": [
    "#Fifa.loc[Fifa.Overall > 2] = 1\n",
    "#Fifa.loc[(Fifa.Overall > -1.5) & (Fifa.Overall <2)] = 2\n",
    "#Fifa.loc[Fifa.Overall < -1.5] = 3\n",
    "for f in Fifa['Overall']:\n",
    "    if f > 2:\n",
    "        Fifa['Overall'].replace(f, 'High', inplace=True)\n",
    "    elif f < -1.5:\n",
    "        Fifa['Overall'].replace(f, 'Low', inplace=True)\n",
    "    else:\n",
    "        Fifa['Overall'].replace(f, 'Average', inplace=True)\n",
    "        "
   ]
  },
  {
   "cell_type": "code",
   "execution_count": 22,
   "metadata": {},
   "outputs": [],
   "source": [
    "Fifa = Fifa.drop(['WR1','WR2','Work Rate'], axis = 1)"
   ]
  },
  {
   "cell_type": "code",
   "execution_count": 23,
   "metadata": {},
   "outputs": [
    {
     "data": {
      "text/html": [
       "<div>\n",
       "<style scoped>\n",
       "    .dataframe tbody tr th:only-of-type {\n",
       "        vertical-align: middle;\n",
       "    }\n",
       "\n",
       "    .dataframe tbody tr th {\n",
       "        vertical-align: top;\n",
       "    }\n",
       "\n",
       "    .dataframe thead th {\n",
       "        text-align: right;\n",
       "    }\n",
       "</style>\n",
       "<table border=\"1\" class=\"dataframe\">\n",
       "  <thead>\n",
       "    <tr style=\"text-align: right;\">\n",
       "      <th></th>\n",
       "      <th>Name</th>\n",
       "      <th>Age</th>\n",
       "      <th>Nationality</th>\n",
       "      <th>Height</th>\n",
       "      <th>Weight</th>\n",
       "      <th>Overall</th>\n",
       "      <th>Potential</th>\n",
       "      <th>Balance</th>\n",
       "      <th>Stamina</th>\n",
       "      <th>Strength</th>\n",
       "      <th>Dribbling</th>\n",
       "      <th>ShotPower</th>\n",
       "      <th>Jumping</th>\n",
       "      <th>Acceleration</th>\n",
       "      <th>WR</th>\n",
       "    </tr>\n",
       "  </thead>\n",
       "  <tbody>\n",
       "    <tr>\n",
       "      <th>0</th>\n",
       "      <td>L. Messi</td>\n",
       "      <td>1.258441</td>\n",
       "      <td>Argentina</td>\n",
       "      <td>-1.646010</td>\n",
       "      <td>-0.447583</td>\n",
       "      <td>High</td>\n",
       "      <td>3.697415</td>\n",
       "      <td>2.195382</td>\n",
       "      <td>0.552403</td>\n",
       "      <td>-0.502679</td>\n",
       "      <td>2.201445</td>\n",
       "      <td>1.713704</td>\n",
       "      <td>0.246247</td>\n",
       "      <td>1.767621</td>\n",
       "      <td>-0.440246</td>\n",
       "    </tr>\n",
       "    <tr>\n",
       "      <th>1</th>\n",
       "      <td>Cristiano Ronaldo</td>\n",
       "      <td>1.686666</td>\n",
       "      <td>Portugal</td>\n",
       "      <td>0.995907</td>\n",
       "      <td>1.091577</td>\n",
       "      <td>High</td>\n",
       "      <td>3.697415</td>\n",
       "      <td>0.426820</td>\n",
       "      <td>1.559053</td>\n",
       "      <td>1.090102</td>\n",
       "      <td>1.725503</td>\n",
       "      <td>2.293836</td>\n",
       "      <td>2.530565</td>\n",
       "      <td>1.633639</td>\n",
       "      <td>-0.440246</td>\n",
       "    </tr>\n",
       "    <tr>\n",
       "      <th>2</th>\n",
       "      <td>Neymar Jr</td>\n",
       "      <td>0.187878</td>\n",
       "      <td>Brazil</td>\n",
       "      <td>-0.891177</td>\n",
       "      <td>-1.024769</td>\n",
       "      <td>High</td>\n",
       "      <td>3.534396</td>\n",
       "      <td>1.417214</td>\n",
       "      <td>1.118643</td>\n",
       "      <td>-1.299069</td>\n",
       "      <td>2.148563</td>\n",
       "      <td>1.423639</td>\n",
       "      <td>-0.345984</td>\n",
       "      <td>1.968594</td>\n",
       "      <td>1.006448</td>\n",
       "    </tr>\n",
       "    <tr>\n",
       "      <th>3</th>\n",
       "      <td>De Gea</td>\n",
       "      <td>0.401990</td>\n",
       "      <td>Spain</td>\n",
       "      <td>1.750741</td>\n",
       "      <td>0.129602</td>\n",
       "      <td>High</td>\n",
       "      <td>3.534396</td>\n",
       "      <td>-1.483228</td>\n",
       "      <td>-1.272151</td>\n",
       "      <td>-0.104484</td>\n",
       "      <td>-1.976272</td>\n",
       "      <td>-1.419003</td>\n",
       "      <td>0.161642</td>\n",
       "      <td>-0.510075</td>\n",
       "      <td>-0.440246</td>\n",
       "    </tr>\n",
       "    <tr>\n",
       "      <th>4</th>\n",
       "      <td>K. De Bruyne</td>\n",
       "      <td>0.401990</td>\n",
       "      <td>Belgium</td>\n",
       "      <td>-0.136343</td>\n",
       "      <td>-0.768242</td>\n",
       "      <td>High</td>\n",
       "      <td>3.371377</td>\n",
       "      <td>0.922017</td>\n",
       "      <td>1.684884</td>\n",
       "      <td>0.771546</td>\n",
       "      <td>1.619738</td>\n",
       "      <td>2.061783</td>\n",
       "      <td>-0.176775</td>\n",
       "      <td>0.896737</td>\n",
       "      <td>2.453143</td>\n",
       "    </tr>\n",
       "  </tbody>\n",
       "</table>\n",
       "</div>"
      ],
      "text/plain": [
       "                Name       Age Nationality    Height    Weight Overall  \\\n",
       "0           L. Messi  1.258441   Argentina -1.646010 -0.447583    High   \n",
       "1  Cristiano Ronaldo  1.686666    Portugal  0.995907  1.091577    High   \n",
       "2          Neymar Jr  0.187878      Brazil -0.891177 -1.024769    High   \n",
       "3             De Gea  0.401990       Spain  1.750741  0.129602    High   \n",
       "4       K. De Bruyne  0.401990     Belgium -0.136343 -0.768242    High   \n",
       "\n",
       "   Potential   Balance   Stamina  Strength  Dribbling  ShotPower   Jumping  \\\n",
       "0   3.697415  2.195382  0.552403 -0.502679   2.201445   1.713704  0.246247   \n",
       "1   3.697415  0.426820  1.559053  1.090102   1.725503   2.293836  2.530565   \n",
       "2   3.534396  1.417214  1.118643 -1.299069   2.148563   1.423639 -0.345984   \n",
       "3   3.534396 -1.483228 -1.272151 -0.104484  -1.976272  -1.419003  0.161642   \n",
       "4   3.371377  0.922017  1.684884  0.771546   1.619738   2.061783 -0.176775   \n",
       "\n",
       "   Acceleration        WR  \n",
       "0      1.767621 -0.440246  \n",
       "1      1.633639 -0.440246  \n",
       "2      1.968594  1.006448  \n",
       "3     -0.510075 -0.440246  \n",
       "4      0.896737  2.453143  "
      ]
     },
     "execution_count": 23,
     "metadata": {},
     "output_type": "execute_result"
    }
   ],
   "source": [
    "Fifa.head()"
   ]
  },
  {
   "cell_type": "code",
   "execution_count": 24,
   "metadata": {},
   "outputs": [],
   "source": [
    "# Now change a,b,c to 1,2,3\n",
    "#Fifa['Overall'].replace('a', 1, inplace=True)\n",
    "#Fifa['Overall'].replace('b', 2, inplace=True)\n",
    "#Fifa['Overall'].replace('c', 3, inplace=True)"
   ]
  },
  {
   "cell_type": "markdown",
   "metadata": {},
   "source": [
    "### Some Data Visualization"
   ]
  },
  {
   "cell_type": "code",
   "execution_count": 25,
   "metadata": {},
   "outputs": [
    {
     "data": {
      "text/plain": [
       "Text(0.5, 1.0, 'Bar Diagram of Number of Player from Top 50 Nationals')"
      ]
     },
     "execution_count": 25,
     "metadata": {},
     "output_type": "execute_result"
    },
    {
     "data": {
      "image/png": "[encoded data removed]",
      "text/plain": [
       "<Figure size 1080x360 with 1 Axes>"
      ]
     },
     "metadata": {
      "needs_background": "light"
     },
     "output_type": "display_data"
    }
   ],
   "source": [
    "#plt.figure(figsize=(22,14))\n",
    "#plt.bar(list(Fifa['Nationality'].value_counts()[0:20].keys()),list(Fifa['Nationality'].value_counts()[0:20]))\n",
    "Fifa['Nationality'].value_counts().head(50).plot(kind = 'bar',figsize=[15,5],color = ['red','black','green','cyan','blue'])\n",
    "plt.title('Bar Diagram of Number of Player from Top 50 Nationals')"
   ]
  },
  {
   "cell_type": "code",
   "execution_count": 26,
   "metadata": {},
   "outputs": [
    {
     "data": {
      "text/plain": [
       "array([[1.        , 0.33279819],\n",
       "       [0.33279819, 1.        ]])"
      ]
     },
     "execution_count": 26,
     "metadata": {},
     "output_type": "execute_result"
    }
   ],
   "source": [
    "#Correlation coefficent between age and strength\n",
    "C = np.corrcoef(Fifa.Age,Fifa.Strength)\n",
    "C"
   ]
  },
  {
   "cell_type": "code",
   "execution_count": 27,
   "metadata": {},
   "outputs": [
    {
     "data": {
      "image/png": "[encoded data removed]",
      "text/plain": [
       "<Figure size 576x576 with 2 Axes>"
      ]
     },
     "metadata": {
      "needs_background": "light"
     },
     "output_type": "display_data"
    }
   ],
   "source": [
    "# correlation matrix of Age,Stamina Balance Strength\n",
    "df_small = Fifa.iloc[:,[1,3,4,5,6,7,8,9,10,11,12,13,14]]\n",
    "\n",
    "correlation_mat = df_small.corr()\n",
    "fig , ax = plt.subplots(figsize=(8,8))\n",
    "\n",
    "sns.heatmap(correlation_mat, annot = True, vmax = 1,vmin = 0, linewidth = 0.1,ax = ax)\n",
    "plt.title('Heatmap of Correlation Matrix')\n",
    "\n",
    "plt.show()"
   ]
  },
  {
   "cell_type": "markdown",
   "metadata": {},
   "source": [
    "###### From the above heat map we found the interesting correlations between different features. First, There high positive correlation between Dribbling and shot Power of the plaers(0.8), similarly between Jumping and Dribbling , Stamina and Jumping, Accleration and Dribbling etc.  are highly correlated in positive mannar, whereas, Balance and Weight  have high negative correlation. In addition, Weight and Potential , Height and age, Height and Potential, Balance and Age are are almost not corrrelated. "
   ]
  },
  {
   "cell_type": "markdown",
   "metadata": {},
   "source": [
    "## For Prediction algorithm I thought using Overall column would be better on the basis of the correlation mapping."
   ]
  },
  {
   "cell_type": "code",
   "execution_count": null,
   "metadata": {},
   "outputs": [],
   "source": []
  },
  {
   "cell_type": "markdown",
   "metadata": {},
   "source": [
    "## Classification Using LogisticRegression "
   ]
  },
  {
   "cell_type": "code",
   "execution_count": 65,
   "metadata": {},
   "outputs": [],
   "source": [
    "#necessary Library\n",
    "from sklearn.metrics import accuracy_score\n",
    "from sklearn.metrics import classification_report\n",
    "from sklearn.metrics import confusion_matrix\n",
    "from sklearn.metrics import plot_confusion_matrix\n",
    "from sklearn.model_selection import cross_val_score"
   ]
  },
  {
   "cell_type": "code",
   "execution_count": 29,
   "metadata": {},
   "outputs": [],
   "source": [
    "#selection of intependent variable and target variable\n",
    "X = Fifa.iloc[:,[1,3,4,6,7,8,9,10,11,12,13,14]].values\n",
    "y = Fifa.iloc[:,5].values"
   ]
  },
  {
   "cell_type": "code",
   "execution_count": 30,
   "metadata": {},
   "outputs": [],
   "source": [
    "#split the features for training and testing\n",
    "X_train,X_test,y_train,y_test = train_test_split(X,y,test_size = 0.25,random_state = 0)"
   ]
  },
  {
   "cell_type": "code",
   "execution_count": 31,
   "metadata": {},
   "outputs": [
    {
     "data": {
      "text/plain": [
       "LogisticRegression(random_state=0)"
      ]
     },
     "execution_count": 31,
     "metadata": {},
     "output_type": "execute_result"
    }
   ],
   "source": [
    "#model execution\n",
    "classifier = LogisticRegression(random_state = 0)\n",
    "classifier.fit(X_train,y_train)"
   ]
  },
  {
   "cell_type": "code",
   "execution_count": 32,
   "metadata": {},
   "outputs": [],
   "source": [
    "#predicion projection\n",
    "y_pred = classifier.predict(X_test)\n"
   ]
  },
  {
   "cell_type": "code",
   "execution_count": 33,
   "metadata": {},
   "outputs": [
    {
     "name": "stdout",
     "output_type": "stream",
     "text": [
      "Accuracy is : 0.9616740088105726\n",
      "F-1 score:  0.8410684449218283\n"
     ]
    }
   ],
   "source": [
    "from sklearn.metrics import f1_score\n",
    "\n",
    "print('Accuracy is :',accuracy_score(y_test,y_pred))\n",
    "print('F-1 score: ',f1_score(y_test, y_pred, average='macro'))"
   ]
  },
  {
   "cell_type": "code",
   "execution_count": 34,
   "metadata": {},
   "outputs": [],
   "source": [
    "predictions = classifier.predict(X_test)"
   ]
  },
  {
   "cell_type": "code",
   "execution_count": 35,
   "metadata": {},
   "outputs": [
    {
     "data": {
      "text/plain": [
       "'              precision    recall  f1-score   support\\n\\n     Average       0.97      0.98      0.98      4154\\n        High       0.83      0.76      0.80       102\\n         Low       0.80      0.70      0.75       284\\n\\n    accuracy                           0.96      4540\\n   macro avg       0.87      0.82      0.84      4540\\nweighted avg       0.96      0.96      0.96      4540\\n'"
      ]
     },
     "execution_count": 35,
     "metadata": {},
     "output_type": "execute_result"
    }
   ],
   "source": [
    "classification_report(y_test,predictions)"
   ]
  },
  {
   "cell_type": "code",
   "execution_count": 36,
   "metadata": {},
   "outputs": [
    {
     "data": {
      "text/plain": [
       "array([[4089,   16,   49],\n",
       "       [  24,   78,    0],\n",
       "       [  85,    0,  199]], dtype=int64)"
      ]
     },
     "execution_count": 36,
     "metadata": {},
     "output_type": "execute_result"
    }
   ],
   "source": [
    "\n",
    "confusion_matrix(y_test,predictions)"
   ]
  },
  {
   "cell_type": "code",
   "execution_count": 37,
   "metadata": {},
   "outputs": [
    {
     "name": "stdout",
     "output_type": "stream",
     "text": [
      "[[4089   16   49]\n",
      " [  24   78    0]\n",
      " [  85    0  199]]\n"
     ]
    },
    {
     "data": {
      "text/plain": [
       "<Figure size 1440x1440 with 0 Axes>"
      ]
     },
     "metadata": {},
     "output_type": "display_data"
    },
    {
     "data": {
      "image/png": "[encoded data removed]",
      "text/plain": [
       "<Figure size 432x288 with 2 Axes>"
      ]
     },
     "metadata": {
      "needs_background": "light"
     },
     "output_type": "display_data"
    }
   ],
   "source": [
    "plt.figure(figsize = (20,20))\n",
    "disp = plot_confusion_matrix(classifier,X_test,y_test,cmap = plt.cm.winter)\n",
    "print(disp.confusion_matrix)\n",
    "plt.title('Confusion Matrix')\n",
    "plt.show()"
   ]
  },
  {
   "cell_type": "code",
   "execution_count": 73,
   "metadata": {},
   "outputs": [
    {
     "data": {
      "text/plain": [
       "array([0.84140969, 0.96718062, 0.9722467 , 0.68010575])"
      ]
     },
     "execution_count": 73,
     "metadata": {},
     "output_type": "execute_result"
    }
   ],
   "source": [
    "#cross Validation score\n",
    "cross_val_score(classifier,X,y,cv = 4)\n"
   ]
  },
  {
   "cell_type": "markdown",
   "metadata": {},
   "source": [
    "# Classification Using DecisionTreeClassifier"
   ]
  },
  {
   "cell_type": "code",
   "execution_count": 38,
   "metadata": {},
   "outputs": [],
   "source": [
    "#Import Library\n",
    "from sklearn.tree import DecisionTreeClassifier\n",
    "from sklearn import tree"
   ]
  },
  {
   "cell_type": "code",
   "execution_count": 39,
   "metadata": {},
   "outputs": [],
   "source": [
    "#model execution\n",
    "model = DecisionTreeClassifier(max_depth = 6)\n",
    "model = model.fit(X_train,y_train)\n",
    "y_pred = model.predict(X_test)"
   ]
  },
  {
   "cell_type": "code",
   "execution_count": 40,
   "metadata": {},
   "outputs": [
    {
     "name": "stdout",
     "output_type": "stream",
     "text": [
      "Accuracy is : 0.9625550660792952\n",
      "F-1 score:  0.871751784759751\n"
     ]
    }
   ],
   "source": [
    "#test Acuracy\n",
    "print('Accuracy is :',accuracy_score(y_test,y_pred))\n",
    "print('F-1 score: ',f1_score(y_test, y_pred, average='macro'))"
   ]
  },
  {
   "cell_type": "code",
   "execution_count": 41,
   "metadata": {},
   "outputs": [
    {
     "name": "stdout",
     "output_type": "stream",
     "text": [
      "              precision    recall  f1-score   support\n",
      "\n",
      "     Average       0.98      0.98      0.98      4154\n",
      "        High       0.91      0.94      0.93       102\n",
      "         Low       0.76      0.66      0.71       284\n",
      "\n",
      "    accuracy                           0.96      4540\n",
      "   macro avg       0.88      0.86      0.87      4540\n",
      "weighted avg       0.96      0.96      0.96      4540\n",
      "\n"
     ]
    },
    {
     "data": {
      "image/png": "[encoded data removed]",
      "text/plain": [
       "<Figure size 432x288 with 1 Axes>"
      ]
     },
     "metadata": {
      "needs_background": "light"
     },
     "output_type": "display_data"
    }
   ],
   "source": [
    "\n",
    "\n",
    "#plot Decision Tree\n",
    "tree.plot_tree(model,filled = True, fontsize = 6);\n",
    "plt.title('Decision Tree')\n",
    "\n",
    "from sklearn.metrics import classification_report\n",
    "\n",
    "target_names = ['Average','High', 'Low']\n",
    "\n",
    "print(classification_report(y_test,y_pred, target_names=target_names))"
   ]
  },
  {
   "cell_type": "code",
   "execution_count": 93,
   "metadata": {},
   "outputs": [
    {
     "data": {
      "text/plain": [
       "array([0.86784141, 0.97422907, 0.98061674, 0.58955717])"
      ]
     },
     "execution_count": 93,
     "metadata": {},
     "output_type": "execute_result"
    }
   ],
   "source": [
    "#4-fold cross validation score\n",
    "cross_val_score(model,X,y,cv = 4)"
   ]
  },
  {
   "cell_type": "code",
   "execution_count": 42,
   "metadata": {},
   "outputs": [
    {
     "name": "stdout",
     "output_type": "stream",
     "text": [
      "[[4086    9   59]\n",
      " [   6   96    0]\n",
      " [  96    0  188]]\n"
     ]
    },
    {
     "data": {
      "image/png": "[encoded data removed]",
      "text/plain": [
       "<Figure size 432x288 with 2 Axes>"
      ]
     },
     "metadata": {
      "needs_background": "light"
     },
     "output_type": "display_data"
    }
   ],
   "source": [
    "\n",
    "disp = plot_confusion_matrix(model,X_test,y_test,cmap = plt.cm.summer)\n",
    "print(disp.confusion_matrix)\n",
    "plt.title('Confusion Matrix')\n",
    "plt.show()"
   ]
  },
  {
   "cell_type": "markdown",
   "metadata": {},
   "source": [
    "# Using KNeighbors Classifier"
   ]
  },
  {
   "cell_type": "code",
   "execution_count": 43,
   "metadata": {},
   "outputs": [],
   "source": [
    "#import Library\n",
    "from sklearn.neighbors import KNeighborsClassifier"
   ]
  },
  {
   "cell_type": "code",
   "execution_count": 44,
   "metadata": {},
   "outputs": [],
   "source": [
    "knmodel = KNeighborsClassifier(n_neighbors = 6)\n",
    "knmodel = knmodel.fit(X_train,y_train)\n",
    "y_pred = knmodel.predict(X_test)"
   ]
  },
  {
   "cell_type": "code",
   "execution_count": 45,
   "metadata": {},
   "outputs": [
    {
     "name": "stdout",
     "output_type": "stream",
     "text": [
      "Accuracy is : 0.9409691629955947\n",
      "F-1 score:  0.6424406185919344\n"
     ]
    }
   ],
   "source": [
    "#test accuracy\n",
    "print('Accuracy is :',accuracy_score(y_test,y_pred))\n",
    "print('F-1 score: ',f1_score(y_test, y_pred, average='macro'))"
   ]
  },
  {
   "cell_type": "code",
   "execution_count": 71,
   "metadata": {},
   "outputs": [
    {
     "data": {
      "text/plain": [
       "array([0.87048458, 0.9339207 , 0.93920705, 0.79951531])"
      ]
     },
     "execution_count": 71,
     "metadata": {},
     "output_type": "execute_result"
    }
   ],
   "source": [
    "#cross-validation score(k=4)\n",
    "cross_val_score(knmodel,X,y,cv = 4)"
   ]
  },
  {
   "cell_type": "code",
   "execution_count": 46,
   "metadata": {},
   "outputs": [
    {
     "name": "stdout",
     "output_type": "stream",
     "text": [
      "[[4122    1   31]\n",
      " [  77   25    0]\n",
      " [ 159    0  125]]\n"
     ]
    },
    {
     "data": {
      "image/png": "[encoded data removed]",
      "text/plain": [
       "<Figure size 432x288 with 2 Axes>"
      ]
     },
     "metadata": {
      "needs_background": "light"
     },
     "output_type": "display_data"
    }
   ],
   "source": [
    "#plot Confusion Matrix\n",
    "disp = plot_confusion_matrix(knmodel,X_test,y_test,cmap = plt.cm.spring )\n",
    "print(disp.confusion_matrix)\n",
    "plt.title('Confusion Matrix')\n",
    "plt.show()"
   ]
  },
  {
   "cell_type": "markdown",
   "metadata": {},
   "source": [
    "# Naive Bayesian Classification"
   ]
  },
  {
   "cell_type": "code",
   "execution_count": 47,
   "metadata": {},
   "outputs": [],
   "source": [
    "from sklearn.naive_bayes import GaussianNB"
   ]
  },
  {
   "cell_type": "code",
   "execution_count": 48,
   "metadata": {},
   "outputs": [],
   "source": [
    "nbmodel = GaussianNB()\n",
    "nbmodel = nbmodel.fit(X_train,y_train)\n",
    "y_pred = nbmodel.predict(X_test)"
   ]
  },
  {
   "cell_type": "code",
   "execution_count": 49,
   "metadata": {},
   "outputs": [
    {
     "name": "stdout",
     "output_type": "stream",
     "text": [
      "Accuracy is : 0.9079295154185022\n",
      "F-1 score:  0.7160141126619358\n"
     ]
    }
   ],
   "source": [
    "# Test Accuracy\n",
    "print('Accuracy is :',accuracy_score(y_test,y_pred))\n",
    "print('F-1 score: ',f1_score(y_test, y_pred, average='macro'))"
   ]
  },
  {
   "cell_type": "code",
   "execution_count": 50,
   "metadata": {},
   "outputs": [
    {
     "name": "stdout",
     "output_type": "stream",
     "text": [
      "[[3871   34  249]\n",
      " [  29   73    0]\n",
      " [ 106    0  178]]\n"
     ]
    },
    {
     "data": {
      "image/png": "[encoded data removed]",
      "text/plain": [
       "<Figure size 432x288 with 2 Axes>"
      ]
     },
     "metadata": {
      "needs_background": "light"
     },
     "output_type": "display_data"
    }
   ],
   "source": [
    "disp = plot_confusion_matrix(nbmodel,X_test,y_test,cmap = plt.cm.autumn )\n",
    "print(disp.confusion_matrix)\n",
    "plt.title('Confusion Matrix')\n",
    "plt.show()"
   ]
  },
  {
   "cell_type": "code",
   "execution_count": 74,
   "metadata": {},
   "outputs": [
    {
     "data": {
      "text/plain": [
       "array([0.83237885, 0.9314978 , 0.92202643, 0.76756995])"
      ]
     },
     "execution_count": 74,
     "metadata": {},
     "output_type": "execute_result"
    }
   ],
   "source": [
    "cross_val_score(nbmodel,X,y,cv = 4)"
   ]
  },
  {
   "cell_type": "code",
   "execution_count": 51,
   "metadata": {},
   "outputs": [],
   "source": [
    "#colors = [plt.cm.winter,plt.cm.summer,plt.cm.spring,plt.cm.autumn]\n",
    "#models = [LogisticRegression(),DecisionTreeClassifier(),KNeighborsClassifier(),GaussianNB()]\n",
    "#for mds in models:\n",
    "   # mds.fit(X_train,y_train)"
   ]
  },
  {
   "cell_type": "code",
   "execution_count": 52,
   "metadata": {},
   "outputs": [],
   "source": [
    "#fig,axes = plt.subplots(nrows = 2,ncols = 2, figsize = (14,10))\n",
    "#for mds,ax,j in zip(models,axes.flatten(),colors):\n",
    "    #plot_confusion_matrix(mds,X_test,y_test,ax = ax, cmap = j)\n",
    "   # ax.title.set_text(type(mds).__name__)\n",
    "#plt.tight_layout()\n",
    "#plt.show()\n",
    "    "
   ]
  },
  {
   "cell_type": "markdown",
   "metadata": {},
   "source": [
    "# Random Forest Classifier"
   ]
  },
  {
   "cell_type": "code",
   "execution_count": 53,
   "metadata": {},
   "outputs": [
    {
     "name": "stdout",
     "output_type": "stream",
     "text": [
      "accuracy 0.9682819383259912\n",
      "F-1 score:  0.8756278947711463\n"
     ]
    }
   ],
   "source": [
    "from sklearn.ensemble import RandomForestClassifier\n",
    "\n",
    "rf_clf = RandomForestClassifier()\n",
    "rf_clf.fit(X_train,y_train)\n",
    "y_pred = rf_clf.predict(X_test)\n",
    "print('accuracy',accuracy_score(y_test,y_pred))\n",
    "print('F-1 score: ',f1_score(y_test, y_pred, average='macro'))"
   ]
  },
  {
   "cell_type": "code",
   "execution_count": 54,
   "metadata": {},
   "outputs": [
    {
     "name": "stdout",
     "output_type": "stream",
     "text": [
      "[[4113    8   33]\n",
      " [  16   86    0]\n",
      " [  87    0  197]]\n"
     ]
    },
    {
     "data": {
      "image/png": "[encoded data removed]",
      "text/plain": [
       "<Figure size 432x288 with 2 Axes>"
      ]
     },
     "metadata": {
      "needs_background": "light"
     },
     "output_type": "display_data"
    }
   ],
   "source": [
    "\n",
    "disp = plot_confusion_matrix(rf_clf,X_test,y_test,cmap = plt.cm.spring )\n",
    "print(disp.confusion_matrix)\n",
    "plt.title('Confusion Matrix')\n",
    "plt.show()"
   ]
  },
  {
   "cell_type": "code",
   "execution_count": 76,
   "metadata": {},
   "outputs": [
    {
     "data": {
      "text/plain": [
       "array([0.86057269, 0.96365639, 0.97202643, 0.62789161])"
      ]
     },
     "execution_count": 76,
     "metadata": {},
     "output_type": "execute_result"
    }
   ],
   "source": [
    "#cross Validation Score(k=4)\n",
    "cross_val_score(rf_clf,X,y,cv = 4)"
   ]
  },
  {
   "cell_type": "code",
   "execution_count": 55,
   "metadata": {},
   "outputs": [
    {
     "data": {
      "image/png": "[encoded data removed]",
      "text/plain": [
       "<Figure size 1080x720 with 1 Axes>"
      ]
     },
     "metadata": {
      "needs_background": "light"
     },
     "output_type": "display_data"
    }
   ],
   "source": [
    "#Visualization of Random Forest Tree\n",
    "from sklearn import tree\n",
    "plt.figure(figsize = (15,10))\n",
    "for i in range(len(rf_clf.estimators_)):\n",
    "    tree.plot_tree(rf_clf.estimators_[i],filled=True)\n",
    "    plt.title('Random Forest Tree')"
   ]
  },
  {
   "cell_type": "markdown",
   "metadata": {},
   "source": [
    "# Support Vector Classification"
   ]
  },
  {
   "cell_type": "code",
   "execution_count": 56,
   "metadata": {},
   "outputs": [
    {
     "name": "stdout",
     "output_type": "stream",
     "text": [
      "accuracy 0.9671806167400882\n",
      "F-1 score:  0.8618100892042503\n",
      "[[4111    6   37]\n",
      " [  26   76    0]\n",
      " [  80    0  204]]\n"
     ]
    },
    {
     "data": {
      "image/png": "[encoded data removed]",
      "text/plain": [
       "<Figure size 432x288 with 2 Axes>"
      ]
     },
     "metadata": {
      "needs_background": "light"
     },
     "output_type": "display_data"
    }
   ],
   "source": [
    "from sklearn.svm import SVC\n",
    "\n",
    "svc = SVC()\n",
    "svc.fit(X_train,y_train)\n",
    "y_pred = svc.predict(X_test)\n",
    "print('accuracy',accuracy_score(y_test,y_pred))\n",
    "print('F-1 score: ',f1_score(y_test, y_pred, average='macro'))\n",
    "disp = plot_confusion_matrix(svc,X_test,y_test,cmap = plt.cm.spring )\n",
    "print(disp.confusion_matrix)\n",
    "plt.title('Confusion Matrix')\n",
    "plt.show()"
   ]
  },
  {
   "cell_type": "code",
   "execution_count": 77,
   "metadata": {},
   "outputs": [
    {
     "data": {
      "text/plain": [
       "array([0.78854626, 0.96365639, 0.97026432, 0.69552765])"
      ]
     },
     "execution_count": 77,
     "metadata": {},
     "output_type": "execute_result"
    }
   ],
   "source": [
    "cross_val_score(svc,X,y,cv = 4)"
   ]
  },
  {
   "cell_type": "markdown",
   "metadata": {},
   "source": [
    "# ADA BOOST Classification"
   ]
  },
  {
   "cell_type": "code",
   "execution_count": 79,
   "metadata": {},
   "outputs": [
    {
     "name": "stdout",
     "output_type": "stream",
     "text": [
      "accuracy 0.9317180616740088\n",
      "F-1 score:  0.6785049984390522\n"
     ]
    }
   ],
   "source": [
    "from sklearn.ensemble import AdaBoostClassifier\n",
    "\n",
    "ada_boost_clf = AdaBoostClassifier()\n",
    "ada_boost_clf.fit(X_train,y_train)\n",
    "y_pred = ada_boost_clf.predict(X_test)\n",
    "print('accuracy',accuracy_score(y_test,y_pred))\n",
    "print('F-1 score: ',f1_score(y_test, y_pred, average='macro'))"
   ]
  },
  {
   "cell_type": "code",
   "execution_count": 80,
   "metadata": {},
   "outputs": [
    {
     "name": "stdout",
     "output_type": "stream",
     "text": [
      "[[4064   42   48]\n",
      " [  42   60    0]\n",
      " [ 178    0  106]]\n"
     ]
    },
    {
     "data": {
      "image/png": "[encoded data removed]",
      "text/plain": [
       "<Figure size 432x288 with 2 Axes>"
      ]
     },
     "metadata": {
      "needs_background": "light"
     },
     "output_type": "display_data"
    }
   ],
   "source": [
    "disp = plot_confusion_matrix(ada_boost_clf,X_test,y_test,cmap = plt.cm.spring )\n",
    "print(disp.confusion_matrix)\n",
    "plt.title('Confusion Matrix')           \n",
    "plt.show()"
   ]
  },
  {
   "cell_type": "code",
   "execution_count": 88,
   "metadata": {},
   "outputs": [
    {
     "data": {
      "text/plain": [
       "array([0.87929515, 0.92643172, 0.9592511 , 0.92927958])"
      ]
     },
     "execution_count": 88,
     "metadata": {},
     "output_type": "execute_result"
    }
   ],
   "source": [
    "#Cross Validation score\n",
    "cross_val_score(ada_boost_clf,X,y,cv = 4)"
   ]
  },
  {
   "cell_type": "markdown",
   "metadata": {},
   "source": [
    "# Stochastic Gradient Descent Classification"
   ]
  },
  {
   "cell_type": "code",
   "execution_count": 59,
   "metadata": {},
   "outputs": [
    {
     "name": "stdout",
     "output_type": "stream",
     "text": [
      "accuracy 0.9504405286343612\n",
      "F-1 score:  0.7663392661904042\n"
     ]
    }
   ],
   "source": [
    "from sklearn.linear_model import SGDClassifier\n",
    "\n",
    "sdg_clf = SGDClassifier(loss=\"hinge\", penalty=\"l2\")\n",
    "sdg_clf.fit(X_train,y_train)\n",
    "y_pred = sdg_clf.predict(X_test)\n",
    "print('accuracy',accuracy_score(y_test,y_pred))\n",
    "print('F-1 score: ',f1_score(y_test, y_pred, average='macro'))"
   ]
  },
  {
   "cell_type": "code",
   "execution_count": 83,
   "metadata": {},
   "outputs": [
    {
     "name": "stdout",
     "output_type": "stream",
     "text": [
      "[[4064   42   48]\n",
      " [  42   60    0]\n",
      " [ 178    0  106]]\n"
     ]
    },
    {
     "data": {
      "image/png": "[encoded data removed]",
      "text/plain": [
       "<Figure size 432x288 with 2 Axes>"
      ]
     },
     "metadata": {
      "needs_background": "light"
     },
     "output_type": "display_data"
    }
   ],
   "source": [
    "disp = plot_confusion_matrix(ada_boost_clf,X_test,y_test,cmap = plt.cm.spring )\n",
    "print(disp.confusion_matrix)\n",
    "plt.title('Confusion Matrix')           \n",
    "plt.show()"
   ]
  },
  {
   "cell_type": "code",
   "execution_count": 90,
   "metadata": {},
   "outputs": [
    {
     "data": {
      "text/plain": [
       "array([0.91145374, 0.94273128, 0.95814978, 0.72769332])"
      ]
     },
     "execution_count": 90,
     "metadata": {},
     "output_type": "execute_result"
    }
   ],
   "source": [
    "#cross validation score\n",
    "cross_val_score(sdg_clf,X,y,cv = 4)"
   ]
  },
  {
   "cell_type": "markdown",
   "metadata": {},
   "source": [
    "# Compare and contrast"
   ]
  },
  {
   "cell_type": "code",
   "execution_count": 61,
   "metadata": {},
   "outputs": [],
   "source": [
    "colors = [plt.cm.winter,plt.cm.summer,plt.cm.spring,plt.cm.autumn,plt.cm.cool,plt.cm.Purples,plt.cm.Blues,plt.cm.gray]\n",
    "models = [LogisticRegression(),DecisionTreeClassifier(),KNeighborsClassifier(),GaussianNB(),RandomForestClassifier(),SVC(),AdaBoostClassifier(), SGDClassifier()]\n",
    "for mds in models:\n",
    "    mds.fit(X_train,y_train)"
   ]
  },
  {
   "cell_type": "code",
   "execution_count": 62,
   "metadata": {},
   "outputs": [
    {
     "data": {
      "image/png": "[encoded data removed]",
      "text/plain": [
       "<Figure size 1008x720 with 16 Axes>"
      ]
     },
     "metadata": {
      "needs_background": "light"
     },
     "output_type": "display_data"
    },
    {
     "name": "stdout",
     "output_type": "stream",
     "text": [
      "[LogisticRegression(), DecisionTreeClassifier(), KNeighborsClassifier(), GaussianNB(), RandomForestClassifier(), SVC(), AdaBoostClassifier(), SGDClassifier()]\n"
     ]
    }
   ],
   "source": [
    "fig,axes = plt.subplots(nrows = 2,ncols = 4, figsize = (14,10))\n",
    "for mds,ax,j in zip(models,axes.flatten(),colors):\n",
    "    plot_confusion_matrix(mds,X_test,y_test,ax = ax, cmap = j)\n",
    "    ax.title.set_text(type(mds).__name__)\n",
    "plt.tight_layout()\n",
    "plt.show()\n",
    "print(models)"
   ]
  },
  {
   "cell_type": "code",
   "execution_count": null,
   "metadata": {},
   "outputs": [],
   "source": []
  }
 ],
 "metadata": {
  "kernelspec": {
   "display_name": "Python 3",
   "language": "python",
   "name": "python3"
  },
  "language_info": {
   "codemirror_mode": {
    "name": "ipython",
    "version": 3
   },
   "file_extension": ".py",
   "mimetype": "text/x-python",
   "name": "python",
   "nbconvert_exporter": "python",
   "pygments_lexer": "ipython3",
   "version": "3.8.5"
  }
 },
 "nbformat": 4,
 "nbformat_minor": 4
}
